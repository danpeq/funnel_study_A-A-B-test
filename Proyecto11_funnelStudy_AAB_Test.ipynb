{
 "cells": [
  {
   "cell_type": "markdown",
   "metadata": {},
   "source": [
    "## Descripción del proyecto"
   ]
  },
  {
   "cell_type": "markdown",
   "metadata": {},
   "source": [
    "Trabajo en una empresa emergente que vende productos alimenticios. Debo investigar el comportamiento del usuario para la aplicación de la empresa.\n",
    "\n",
    "Primero, estudiaré el embudo de ventas. Descubriré cómo los usuarios y las usuarias llegan a la etapa de compra. \n",
    "\n",
    "Luego, observaré los resultados de un test A/A/B Decifraré y haré seguimiento a los eventos que se produzcan y por último descubriré qué conjunto de fuentes produce mejores resultados."
   ]
  },
  {
   "cell_type": "code",
   "execution_count": 110,
   "metadata": {},
   "outputs": [],
   "source": [
    "import pandas as pd\n",
    "from matplotlib import pyplot as plt\n",
    "import seaborn as sns\n",
    "from dateutil.relativedelta import relativedelta\n",
    "from scipy import stats as st\n",
    "import numpy as np\n",
    "import math as mth\n",
    "import datetime as dt\n",
    "import scipy.stats as stats\n",
    "import plotly.express as px\n",
    "from plotly import graph_objects as go\n",
    "from scipy.stats import levene, mannwhitneyu, shapiro"
   ]
  },
  {
   "cell_type": "markdown",
   "metadata": {},
   "source": [
    "### Paso 1"
   ]
  },
  {
   "cell_type": "code",
   "execution_count": 111,
   "metadata": {},
   "outputs": [],
   "source": [
    "#Importación del dataset para revisión de datos\n",
    "logs_exp = pd.read_csv('/datasets/logs_exp_us.csv')"
   ]
  },
  {
   "cell_type": "code",
   "execution_count": 112,
   "metadata": {},
   "outputs": [
    {
     "name": "stdout",
     "output_type": "stream",
     "text": [
      "<class 'pandas.core.frame.DataFrame'>\n",
      "RangeIndex: 244126 entries, 0 to 244125\n",
      "Data columns (total 1 columns):\n",
      " #   Column                                       Non-Null Count   Dtype \n",
      "---  ------                                       --------------   ----- \n",
      " 0   EventName\tDeviceIDHash\tEventTimestamp\tExpId  244126 non-null  object\n",
      "dtypes: object(1)\n",
      "memory usage: 1.9+ MB\n",
      "None\n"
     ]
    }
   ],
   "source": [
    "print(logs_exp.info())"
   ]
  },
  {
   "cell_type": "markdown",
   "metadata": {},
   "source": [
    "### Paso 2: Preparamos los datos para el análisis"
   ]
  },
  {
   "cell_type": "code",
   "execution_count": 113,
   "metadata": {},
   "outputs": [
    {
     "name": "stdout",
     "output_type": "stream",
     "text": [
      "Index(['EventName\\tDeviceIDHash\\tEventTimestamp\\tExpId'], dtype='object')\n"
     ]
    }
   ],
   "source": [
    "#Cambio de nombre de las columnas\n",
    "print(logs_exp.columns)"
   ]
  },
  {
   "cell_type": "code",
   "execution_count": 114,
   "metadata": {},
   "outputs": [
    {
     "name": "stdout",
     "output_type": "stream",
     "text": [
      "Index(['EventName', 'DeviceIDHash', 'EventTimestamp', 'ExpId'], dtype='object')\n"
     ]
    }
   ],
   "source": [
    "#Separamos las columnas para que sean independientes\n",
    "logs_exp = logs_exp['EventName\\tDeviceIDHash\\tEventTimestamp\\tExpId'].str.split('\\t', expand=True)\n",
    "\n",
    "#Asignamos nuevos nombres a las columnas\n",
    "logs_exp.columns = ['EventName', 'DeviceIDHash', 'EventTimestamp', 'ExpId']\n",
    "print(logs_exp.columns)"
   ]
  },
  {
   "cell_type": "markdown",
   "metadata": {},
   "source": [
    "Comprobamos que tipo de datos tenemos y si tenemos valores ausentes. "
   ]
  },
  {
   "cell_type": "code",
   "execution_count": 115,
   "metadata": {},
   "outputs": [
    {
     "name": "stdout",
     "output_type": "stream",
     "text": [
      "<class 'pandas.core.frame.DataFrame'>\n",
      "RangeIndex: 244126 entries, 0 to 244125\n",
      "Data columns (total 4 columns):\n",
      " #   Column          Non-Null Count   Dtype \n",
      "---  ------          --------------   ----- \n",
      " 0   EventName       244126 non-null  object\n",
      " 1   DeviceIDHash    244126 non-null  object\n",
      " 2   EventTimestamp  244126 non-null  object\n",
      " 3   ExpId           244126 non-null  object\n",
      "dtypes: object(4)\n",
      "memory usage: 7.5+ MB\n",
      "None\n"
     ]
    }
   ],
   "source": [
    "print(logs_exp.info())"
   ]
  },
  {
   "cell_type": "code",
   "execution_count": 116,
   "metadata": {
    "scrolled": false
   },
   "outputs": [],
   "source": [
    "#Cambiamos el tipo de datos de cada columna de acuerdo a sus características\n",
    "logs_exp['EventName'] = logs_exp['EventName'].astype(str)\n",
    "logs_exp['DeviceIDHash'] = logs_exp['DeviceIDHash'].astype(str)\n",
    "#Cambiamos 'EventTimestamp' a tipo datetime\n",
    "logs_exp['EventTimestamp'] = pd.to_datetime(logs_exp['EventTimestamp'], unit='s')\n",
    "logs_exp['ExpId'] = logs_exp['ExpId'].astype(int)"
   ]
  },
  {
   "cell_type": "code",
   "execution_count": 117,
   "metadata": {
    "scrolled": true
   },
   "outputs": [
    {
     "name": "stdout",
     "output_type": "stream",
     "text": [
      "EventName         0\n",
      "DeviceIDHash      0\n",
      "EventTimestamp    0\n",
      "ExpId             0\n",
      "dtype: int64\n"
     ]
    }
   ],
   "source": [
    "#Verificación de datos usentes\n",
    "print(logs_exp.isna().sum())"
   ]
  },
  {
   "cell_type": "markdown",
   "metadata": {},
   "source": [
    "No tenemos datos ni valores ausentes"
   ]
  },
  {
   "cell_type": "code",
   "execution_count": 118,
   "metadata": {
    "scrolled": true
   },
   "outputs": [
    {
     "name": "stdout",
     "output_type": "stream",
     "text": [
      "413\n"
     ]
    }
   ],
   "source": [
    "#Verificación de datos duplicados:\n",
    "print(logs_exp.duplicated().sum())"
   ]
  },
  {
   "cell_type": "code",
   "execution_count": 119,
   "metadata": {},
   "outputs": [
    {
     "name": "stdout",
     "output_type": "stream",
     "text": [
      "0\n"
     ]
    }
   ],
   "source": [
    "#Eliminamos duplicados\n",
    "logs_exp.drop_duplicates(inplace=True)\n",
    "print(logs_exp.duplicated().sum())"
   ]
  },
  {
   "cell_type": "markdown",
   "metadata": {},
   "source": [
    "Tampoco tenemos valores duplicados"
   ]
  },
  {
   "cell_type": "code",
   "execution_count": 120,
   "metadata": {},
   "outputs": [],
   "source": [
    "#Creamos una columna 'DateTime' que contenga la fecha y hora\n",
    "logs_exp['DateTime'] = logs_exp['EventTimestamp']\n",
    "\n",
    "#Creamos otra columna 'Date' que contenga solo la fecha\n",
    "logs_exp['Date'] = logs_exp['EventTimestamp'].dt.date\n",
    "logs_exp['Date'] = pd.to_datetime(logs_exp['Date']).dt.date\n",
    "\n",
    "#Eliminamos la columa 'EventTimestamp'\n",
    "logs_exp = logs_exp.drop(columns=['EventTimestamp'])"
   ]
  },
  {
   "cell_type": "code",
   "execution_count": 121,
   "metadata": {},
   "outputs": [
    {
     "name": "stdout",
     "output_type": "stream",
     "text": [
      "                 EventName         DeviceIDHash  ExpId            DateTime  \\\n",
      "0         MainScreenAppear  4575588528974610257    246 2019-07-25 04:43:36   \n",
      "1         MainScreenAppear  7416695313311560658    246 2019-07-25 11:11:42   \n",
      "2  PaymentScreenSuccessful  3518123091307005509    248 2019-07-25 11:28:47   \n",
      "3         CartScreenAppear  3518123091307005509    248 2019-07-25 11:28:47   \n",
      "4  PaymentScreenSuccessful  6217807653094995999    248 2019-07-25 11:48:42   \n",
      "\n",
      "         Date  \n",
      "0  2019-07-25  \n",
      "1  2019-07-25  \n",
      "2  2019-07-25  \n",
      "3  2019-07-25  \n",
      "4  2019-07-25  \n"
     ]
    }
   ],
   "source": [
    "print(logs_exp.head())"
   ]
  },
  {
   "cell_type": "markdown",
   "metadata": {},
   "source": [
    "### Paso 3: Estudiar y comprobar los datos"
   ]
  },
  {
   "cell_type": "code",
   "execution_count": 122,
   "metadata": {},
   "outputs": [
    {
     "name": "stdout",
     "output_type": "stream",
     "text": [
      "243713\n"
     ]
    }
   ],
   "source": [
    "#Calcularemos cuántos eventos hay en los registros\n",
    "total_events = logs_exp.shape[0]\n",
    "print(total_events)"
   ]
  },
  {
   "cell_type": "code",
   "execution_count": 123,
   "metadata": {},
   "outputs": [
    {
     "name": "stdout",
     "output_type": "stream",
     "text": [
      "['MainScreenAppear' 'PaymentScreenSuccessful' 'CartScreenAppear'\n",
      " 'OffersScreenAppear' 'Tutorial']\n"
     ]
    }
   ],
   "source": [
    "#Nombre de los eventos únicos\n",
    "print(logs_exp['EventName'].unique())"
   ]
  },
  {
   "cell_type": "code",
   "execution_count": 124,
   "metadata": {},
   "outputs": [
    {
     "name": "stdout",
     "output_type": "stream",
     "text": [
      "7551\n"
     ]
    }
   ],
   "source": [
    "#Calcularemos cuántos usuarios y usuarias hay en los registros\n",
    "total_users = logs_exp['DeviceIDHash'].nunique()\n",
    "print(total_users)"
   ]
  },
  {
   "cell_type": "code",
   "execution_count": 125,
   "metadata": {},
   "outputs": [
    {
     "name": "stdout",
     "output_type": "stream",
     "text": [
      "32.27559263673685\n"
     ]
    }
   ],
   "source": [
    "#Calcularemos cuál es el promedio de eventos por usuario\n",
    "average_events_per_user = total_events / total_users\n",
    "print(average_events_per_user)"
   ]
  },
  {
   "cell_type": "markdown",
   "metadata": {},
   "source": [
    "Averiguaremos qué periodo de tiempo cubren los datos"
   ]
  },
  {
   "cell_type": "code",
   "execution_count": 126,
   "metadata": {},
   "outputs": [
    {
     "name": "stdout",
     "output_type": "stream",
     "text": [
      "Fecha mínima: 2019-07-25 04:43:36\n",
      "Fecha máxima: 2019-08-07 21:15:17\n"
     ]
    }
   ],
   "source": [
    "# Calculamos las fechas mínimas y máximas que cubren los datos\n",
    "min_date = logs_exp['DateTime'].min()\n",
    "max_date = logs_exp['DateTime'].max()\n",
    "\n",
    "print(f\"Fecha mínima: {min_date}\")\n",
    "print(f\"Fecha máxima: {max_date}\")"
   ]
  },
  {
   "cell_type": "code",
   "execution_count": 127,
   "metadata": {},
   "outputs": [
    {
     "data": {
      "image/png": "[encoded data removed]",
      "text/plain": [
       "<Figure size 1000x600 with 1 Axes>"
      ]
     },
     "metadata": {},
     "output_type": "display_data"
    }
   ],
   "source": [
    "#Graficamos un histograma de distribución de eventos por fecha y hora\n",
    "plt.figure(figsize=(10, 6))\n",
    "logs_exp['DateTime'].hist(bins=50, edgecolor='black')\n",
    "plt.title('Distribución de eventos por fecha y hora')\n",
    "plt.xlabel('Fecha y hora')\n",
    "plt.ylabel('Número de eventos')\n",
    "plt.xticks(rotation=45)\n",
    "plt.grid(True)\n",
    "plt.tight_layout()\n",
    "plt.show()"
   ]
  },
  {
   "cell_type": "markdown",
   "metadata": {},
   "source": [
    "Lo que nos muestra el gráfico es que:\n",
    "De acuerdo a la fecha mínima: 2019-07-25: Prácticamente no se tienen eventos.\n",
    "De acuerdo a la fecha máxima: 2019-08-07: Tenemos 1200 eventos\n",
    "Se tiene un periodo de 13 dias de eventos entre la fecha mínima y máxima.\n",
    "Donde el pico de eventos se tuvo el '2019-08-25', con mas de 16000 eventos."
   ]
  },
  {
   "cell_type": "markdown",
   "metadata": {},
   "source": [
    "La cantidad de eventos considerables comienzan a partir de '2019-08-01'"
   ]
  },
  {
   "cell_type": "code",
   "execution_count": 128,
   "metadata": {
    "scrolled": true
   },
   "outputs": [
    {
     "name": "stdout",
     "output_type": "stream",
     "text": [
      "Cantidad de eventos excluídos entre 2019-07-25 y 2019-07-31: 2826\n",
      "Cantidad de usuarios excluídos entre 2019-07-25 y 2019-07-31: 1451\n"
     ]
    }
   ],
   "source": [
    "#Calculamos la cantidad de eventos y usuarios exluídos entre el '2019-07-25' y '2019-07-31'.\n",
    "\n",
    "#Definimos las fechas como objetos datetime.date para no tener problemas con el tipo de datos\n",
    "start_date = pd.to_datetime('2019-07-25').date()\n",
    "end_date = pd.to_datetime('2019-07-31').date()\n",
    "\n",
    "#Filtramos las fechas exlcuidas\n",
    "date_in_range = logs_exp[(logs_exp['Date'] >= start_date) & (logs_exp['Date'] <= end_date)]\n",
    "\n",
    "#Calculamos la cantidad eventos exluídos\n",
    "excluded_event_count = date_in_range.shape[0]\n",
    "print(f'Cantidad de eventos excluídos entre 2019-07-25 y 2019-07-31: {excluded_event_count}')\n",
    "\n",
    "#Calculamos la cantidad de usuarios exluídos \n",
    "excluded_users_count = date_in_range['DeviceIDHash'].nunique()\n",
    "print(f'Cantidad de usuarios excluídos entre 2019-07-25 y 2019-07-31: {excluded_users_count}')"
   ]
  },
  {
   "cell_type": "markdown",
   "metadata": {},
   "source": [
    "Nos aseguraremos de tener usuarios en los tres grupos experimentales"
   ]
  },
  {
   "cell_type": "code",
   "execution_count": 129,
   "metadata": {},
   "outputs": [
    {
     "name": "stdout",
     "output_type": "stream",
     "text": [
      "[246 248 247]\n"
     ]
    }
   ],
   "source": [
    "#Nombre de los 3 grupos experimentales\n",
    "print(logs_exp['ExpId'].unique())"
   ]
  },
  {
   "cell_type": "code",
   "execution_count": 130,
   "metadata": {
    "scrolled": true
   },
   "outputs": [
    {
     "name": "stdout",
     "output_type": "stream",
     "text": [
      "Cantidad de usuarios únicos por grupo experimental:\n",
      "ExpId\n",
      "246    2489\n",
      "247    2520\n",
      "248    2542\n",
      "Name: DeviceIDHash, dtype: int64\n"
     ]
    }
   ],
   "source": [
    "#Obtenemos la cantidad de usuarios únicos en cada grupo experimental\n",
    "users_per_group = logs_exp.groupby('ExpId')['DeviceIDHash'].nunique()\n",
    "print(\"Cantidad de usuarios únicos por grupo experimental:\")\n",
    "print(users_per_group)"
   ]
  },
  {
   "cell_type": "code",
   "execution_count": 131,
   "metadata": {
    "scrolled": true
   },
   "outputs": [
    {
     "name": "stdout",
     "output_type": "stream",
     "text": [
      "DeviceIDHash\n",
      "1000608915523616548    1\n",
      "100724994572555335     1\n",
      "1008242126838007188    1\n",
      "1009503747199967885    1\n",
      "1009745980451513098    1\n",
      "                      ..\n",
      "992321565231279868     1\n",
      "993193057518949787     1\n",
      "995065401066914588     1\n",
      "997141886226099626     1\n",
      "997959739029313547     1\n",
      "Name: ExpId, Length: 7551, dtype: int64\n"
     ]
    }
   ],
   "source": [
    "#Revisaremos si los usuarios pertenecen a un solo grupo 'ExpdId' y no se repitan en los grupos\n",
    "group_counts = logs_exp.groupby('DeviceIDHash')['ExpId'].nunique()\n",
    "print(group_counts)"
   ]
  },
  {
   "cell_type": "code",
   "execution_count": 132,
   "metadata": {},
   "outputs": [
    {
     "name": "stdout",
     "output_type": "stream",
     "text": [
      "No hay usuarios que estén en más de un grupo.\n"
     ]
    }
   ],
   "source": [
    "#Filtramos los usuarios que están en mas de 1 grupo\n",
    "duplicate_users = group_counts[group_counts > 1]\n",
    "\n",
    "if not duplicate_users.empty:\n",
    "    print(f\"Hay {duplicate_users.shape[0]} usuarios que están en más de un grupo:\")\n",
    "    print(duplicate_users)\n",
    "else:\n",
    "    print(\"No hay usuarios que estén en más de un grupo.\")"
   ]
  },
  {
   "cell_type": "markdown",
   "metadata": {},
   "source": [
    "### Paso 4: Estudio de embudo de eventos"
   ]
  },
  {
   "cell_type": "markdown",
   "metadata": {},
   "source": [
    "1. Empezaremos observando qué eventos hay en los registros y su frecuencia de suceso, los ordenaremos por su frecuencia."
   ]
  },
  {
   "cell_type": "code",
   "execution_count": 133,
   "metadata": {},
   "outputs": [
    {
     "name": "stdout",
     "output_type": "stream",
     "text": [
      "MainScreenAppear           119101\n",
      "OffersScreenAppear          46808\n",
      "CartScreenAppear            42668\n",
      "PaymentScreenSuccessful     34118\n",
      "Tutorial                     1018\n",
      "Name: EventName, dtype: int64\n"
     ]
    }
   ],
   "source": [
    "#Contaremos la frecuencia en cada evento, los datos se encuenrtan en la columna 'EventName'\n",
    "event_frequencies = logs_exp['EventName'].value_counts()\n",
    "print(event_frequencies)"
   ]
  },
  {
   "cell_type": "code",
   "execution_count": 134,
   "metadata": {},
   "outputs": [
    {
     "name": "stdout",
     "output_type": "stream",
     "text": [
      "MainScreenAppear           119101\n",
      "OffersScreenAppear          46808\n",
      "CartScreenAppear            42668\n",
      "PaymentScreenSuccessful     34118\n",
      "Tutorial                     1018\n",
      "Name: EventName, dtype: int64\n"
     ]
    }
   ],
   "source": [
    "#Ordenamos los resultados por frecuencia de suceso\n",
    "sorted_event_frequencies = event_frequencies.sort_values(ascending=False)\n",
    "print(sorted_event_frequencies)"
   ]
  },
  {
   "cell_type": "markdown",
   "metadata": {},
   "source": [
    "2. Buscaremos la cantidad de usuarios y usuarias que realizaron cada una de estas acciones. Ordenaremos los eventos por el número de usuarios y usuarias. "
   ]
  },
  {
   "cell_type": "code",
   "execution_count": 135,
   "metadata": {},
   "outputs": [
    {
     "name": "stdout",
     "output_type": "stream",
     "text": [
      "EventName\n",
      "MainScreenAppear           7439\n",
      "OffersScreenAppear         4613\n",
      "CartScreenAppear           3749\n",
      "PaymentScreenSuccessful    3547\n",
      "Tutorial                    847\n",
      "Name: DeviceIDHash, dtype: int64\n"
     ]
    }
   ],
   "source": [
    "#Contamos la cantidad de usuarios únicos que realizaron cada una de estas acciones (eventos)\n",
    "user_per_event = logs_exp.groupby('EventName')['DeviceIDHash'].nunique()\n",
    "\n",
    "#Los ordenamos por el número de usuarios de mayor a menor\n",
    "sorted_user_per_event = user_per_event.sort_values(ascending=False)\n",
    "print(sorted_user_per_event)"
   ]
  },
  {
   "cell_type": "code",
   "execution_count": 136,
   "metadata": {},
   "outputs": [
    {
     "name": "stdout",
     "output_type": "stream",
     "text": [
      "7551\n"
     ]
    }
   ],
   "source": [
    "# Calcularemos la proporción de usuarios y usuarias que realizaron la acción(evento) al menos una vez\n",
    "\n",
    "#Primero calculamos el número total de usuarios únicos\n",
    "total_users = logs_exp['DeviceIDHash'].nunique()\n",
    "print(total_users)"
   ]
  },
  {
   "cell_type": "code",
   "execution_count": 137,
   "metadata": {
    "scrolled": true
   },
   "outputs": [
    {
     "name": "stdout",
     "output_type": "stream",
     "text": [
      "EventName\n",
      "MainScreenAppear           98.516753\n",
      "OffersScreenAppear         61.091246\n",
      "CartScreenAppear           49.649053\n",
      "PaymentScreenSuccessful    46.973911\n",
      "Tutorial                   11.217057\n",
      "Name: DeviceIDHash, dtype: float64\n"
     ]
    }
   ],
   "source": [
    "#Anterior mente averiguamos la cantidad de usuarios únicos que realizaron cada acción = user_per_event\n",
    "\n",
    "#Calculamos la proporción de usuarios que realizaron la acción, las ordenaremos de mayor a menor \n",
    "proportion_users_per_event = user_per_event / total_users * 100\n",
    "print(proportion_users_per_event.sort_values(ascending=False))"
   ]
  },
  {
   "cell_type": "code",
   "execution_count": null,
   "metadata": {
    "scrolled": false
   },
   "outputs": [
    {
     "data": {
      "application/vnd.plotly.v1+json": {
       "config": {
        "plotlyServerURL": "https://plot.ly"
       },
       "data": [
        {
         "text": [
          "98.52%",
          "61.09%",
          "49.65%",
          "46.97%",
          "11.22%"
         ],
         "type": "funnel",
         "x": [
          7439,
          4613,
          3749,
          3547,
          847
         ],
         "y": [
          "MainScreenAppear",
          "OffersScreenAppear",
          "CartScreenAppear",
          "PaymentScreenSuccessful",
          "Tutorial"
         ]
        }
       ],
       "layout": {
        "template": {
         "data": {
          "bar": [
           {
            "error_x": {
             "color": "#2a3f5f"
            },
            "error_y": {
             "color": "#2a3f5f"
            },
            "marker": {
             "line": {
              "color": "#E5ECF6",
              "width": 0.5
             },
             "pattern": {
              "fillmode": "overlay",
              "size": 10,
              "solidity": 0.2
             }
            },
            "type": "bar"
           }
          ],
          "barpolar": [
           {
            "marker": {
             "line": {
              "color": "#E5ECF6",
              "width": 0.5
             },
             "pattern": {
              "fillmode": "overlay",
              "size": 10,
              "solidity": 0.2
             }
            },
            "type": "barpolar"
           }
          ],
          "carpet": [
           {
            "aaxis": {
             "endlinecolor": "#2a3f5f",
             "gridcolor": "white",
             "linecolor": "white",
             "minorgridcolor": "white",
             "startlinecolor": "#2a3f5f"
            },
            "baxis": {
             "endlinecolor": "#2a3f5f",
             "gridcolor": "white",
             "linecolor": "white",
             "minorgridcolor": "white",
             "startlinecolor": "#2a3f5f"
            },
            "type": "carpet"
           }
          ],
          "choropleth": [
           {
            "colorbar": {
             "outlinewidth": 0,
             "ticks": ""
            },
            "type": "choropleth"
           }
          ],
          "contour": [
           {
            "colorbar": {
             "outlinewidth": 0,
             "ticks": ""
            },
            "colorscale": [
             [
              0,
              "#0d0887"
             ],
             [
              0.1111111111111111,
              "#46039f"
             ],
             [
              0.2222222222222222,
              "#7201a8"
             ],
             [
              0.3333333333333333,
              "#9c179e"
             ],
             [
              0.4444444444444444,
              "#bd3786"
             ],
             [
              0.5555555555555556,
              "#d8576b"
             ],
             [
              0.6666666666666666,
              "#ed7953"
             ],
             [
              0.7777777777777778,
              "#fb9f3a"
             ],
             [
              0.8888888888888888,
              "#fdca26"
             ],
             [
              1,
              "#f0f921"
             ]
            ],
            "type": "contour"
           }
          ],
          "contourcarpet": [
           {
            "colorbar": {
             "outlinewidth": 0,
             "ticks": ""
            },
            "type": "contourcarpet"
           }
          ],
          "heatmap": [
           {
            "colorbar": {
             "outlinewidth": 0,
             "ticks": ""
            },
            "colorscale": [
             [
              0,
              "#0d0887"
             ],
             [
              0.1111111111111111,
              "#46039f"
             ],
             [
              0.2222222222222222,
              "#7201a8"
             ],
             [
              0.3333333333333333,
              "#9c179e"
             ],
             [
              0.4444444444444444,
              "#bd3786"
             ],
             [
              0.5555555555555556,
              "#d8576b"
             ],
             [
              0.6666666666666666,
              "#ed7953"
             ],
             [
              0.7777777777777778,
              "#fb9f3a"
             ],
             [
              0.8888888888888888,
              "#fdca26"
             ],
             [
              1,
              "#f0f921"
             ]
            ],
            "type": "heatmap"
           }
          ],
          "heatmapgl": [
           {
            "colorbar": {
             "outlinewidth": 0,
             "ticks": ""
            },
            "colorscale": [
             [
              0,
              "#0d0887"
             ],
             [
              0.1111111111111111,
              "#46039f"
             ],
             [
              0.2222222222222222,
              "#7201a8"
             ],
             [
              0.3333333333333333,
              "#9c179e"
             ],
             [
              0.4444444444444444,
              "#bd3786"
             ],
             [
              0.5555555555555556,
              "#d8576b"
             ],
             [
              0.6666666666666666,
              "#ed7953"
             ],
             [
              0.7777777777777778,
              "#fb9f3a"
             ],
             [
              0.8888888888888888,
              "#fdca26"
             ],
             [
              1,
              "#f0f921"
             ]
            ],
            "type": "heatmapgl"
           }
          ],
          "histogram": [
           {
            "marker": {
             "pattern": {
              "fillmode": "overlay",
              "size": 10,
              "solidity": 0.2
             }
            },
            "type": "histogram"
           }
          ],
          "histogram2d": [
           {
            "colorbar": {
             "outlinewidth": 0,
             "ticks": ""
            },
            "colorscale": [
             [
              0,
              "#0d0887"
             ],
             [
              0.1111111111111111,
              "#46039f"
             ],
             [
              0.2222222222222222,
              "#7201a8"
             ],
             [
              0.3333333333333333,
              "#9c179e"
             ],
             [
              0.4444444444444444,
              "#bd3786"
             ],
             [
              0.5555555555555556,
              "#d8576b"
             ],
             [
              0.6666666666666666,
              "#ed7953"
             ],
             [
              0.7777777777777778,
              "#fb9f3a"
             ],
             [
              0.8888888888888888,
              "#fdca26"
             ],
             [
              1,
              "#f0f921"
             ]
            ],
            "type": "histogram2d"
           }
          ],
          "histogram2dcontour": [
           {
            "colorbar": {
             "outlinewidth": 0,
             "ticks": ""
            },
            "colorscale": [
             [
              0,
              "#0d0887"
             ],
             [
              0.1111111111111111,
              "#46039f"
             ],
             [
              0.2222222222222222,
              "#7201a8"
             ],
             [
              0.3333333333333333,
              "#9c179e"
             ],
             [
              0.4444444444444444,
              "#bd3786"
             ],
             [
              0.5555555555555556,
              "#d8576b"
             ],
             [
              0.6666666666666666,
              "#ed7953"
             ],
             [
              0.7777777777777778,
              "#fb9f3a"
             ],
             [
              0.8888888888888888,
              "#fdca26"
             ],
             [
              1,
              "#f0f921"
             ]
            ],
            "type": "histogram2dcontour"
           }
          ],
          "mesh3d": [
           {
            "colorbar": {
             "outlinewidth": 0,
             "ticks": ""
            },
            "type": "mesh3d"
           }
          ],
          "parcoords": [
           {
            "line": {
             "colorbar": {
              "outlinewidth": 0,
              "ticks": ""
             }
            },
            "type": "parcoords"
           }
          ],
          "pie": [
           {
            "automargin": true,
            "type": "pie"
           }
          ],
          "scatter": [
           {
            "marker": {
             "colorbar": {
              "outlinewidth": 0,
              "ticks": ""
             }
            },
            "type": "scatter"
           }
          ],
          "scatter3d": [
           {
            "line": {
             "colorbar": {
              "outlinewidth": 0,
              "ticks": ""
             }
            },
            "marker": {
             "colorbar": {
              "outlinewidth": 0,
              "ticks": ""
             }
            },
            "type": "scatter3d"
           }
          ],
          "scattercarpet": [
           {
            "marker": {
             "colorbar": {
              "outlinewidth": 0,
              "ticks": ""
             }
            },
            "type": "scattercarpet"
           }
          ],
          "scattergeo": [
           {
            "marker": {
             "colorbar": {
              "outlinewidth": 0,
              "ticks": ""
             }
            },
            "type": "scattergeo"
           }
          ],
          "scattergl": [
           {
            "marker": {
             "colorbar": {
              "outlinewidth": 0,
              "ticks": ""
             }
            },
            "type": "scattergl"
           }
          ],
          "scattermapbox": [
           {
            "marker": {
             "colorbar": {
              "outlinewidth": 0,
              "ticks": ""
             }
            },
            "type": "scattermapbox"
           }
          ],
          "scatterpolar": [
           {
            "marker": {
             "colorbar": {
              "outlinewidth": 0,
              "ticks": ""
             }
            },
            "type": "scatterpolar"
           }
          ],
          "scatterpolargl": [
           {
            "marker": {
             "colorbar": {
              "outlinewidth": 0,
              "ticks": ""
             }
            },
            "type": "scatterpolargl"
           }
          ],
          "scatterternary": [
           {
            "marker": {
             "colorbar": {
              "outlinewidth": 0,
              "ticks": ""
             }
            },
            "type": "scatterternary"
           }
          ],
          "surface": [
           {
            "colorbar": {
             "outlinewidth": 0,
             "ticks": ""
            },
            "colorscale": [
             [
              0,
              "#0d0887"
             ],
             [
              0.1111111111111111,
              "#46039f"
             ],
             [
              0.2222222222222222,
              "#7201a8"
             ],
             [
              0.3333333333333333,
              "#9c179e"
             ],
             [
              0.4444444444444444,
              "#bd3786"
             ],
             [
              0.5555555555555556,
              "#d8576b"
             ],
             [
              0.6666666666666666,
              "#ed7953"
             ],
             [
              0.7777777777777778,
              "#fb9f3a"
             ],
             [
              0.8888888888888888,
              "#fdca26"
             ],
             [
              1,
              "#f0f921"
             ]
            ],
            "type": "surface"
           }
          ],
          "table": [
           {
            "cells": {
             "fill": {
              "color": "#EBF0F8"
             },
             "line": {
              "color": "white"
             }
            },
            "header": {
             "fill": {
              "color": "#C8D4E3"
             },
             "line": {
              "color": "white"
             }
            },
            "type": "table"
           }
          ]
         },
         "layout": {
          "annotationdefaults": {
           "arrowcolor": "#2a3f5f",
           "arrowhead": 0,
           "arrowwidth": 1
          },
          "autotypenumbers": "strict",
          "coloraxis": {
           "colorbar": {
            "outlinewidth": 0,
            "ticks": ""
           }
          },
          "colorscale": {
           "diverging": [
            [
             0,
             "#8e0152"
            ],
            [
             0.1,
             "#c51b7d"
            ],
            [
             0.2,
             "#de77ae"
            ],
            [
             0.3,
             "#f1b6da"
            ],
            [
             0.4,
             "#fde0ef"
            ],
            [
             0.5,
             "#f7f7f7"
            ],
            [
             0.6,
             "#e6f5d0"
            ],
            [
             0.7,
             "#b8e186"
            ],
            [
             0.8,
             "#7fbc41"
            ],
            [
             0.9,
             "#4d9221"
            ],
            [
             1,
             "#276419"
            ]
           ],
           "sequential": [
            [
             0,
             "#0d0887"
            ],
            [
             0.1111111111111111,
             "#46039f"
            ],
            [
             0.2222222222222222,
             "#7201a8"
            ],
            [
             0.3333333333333333,
             "#9c179e"
            ],
            [
             0.4444444444444444,
             "#bd3786"
            ],
            [
             0.5555555555555556,
             "#d8576b"
            ],
            [
             0.6666666666666666,
             "#ed7953"
            ],
            [
             0.7777777777777778,
             "#fb9f3a"
            ],
            [
             0.8888888888888888,
             "#fdca26"
            ],
            [
             1,
             "#f0f921"
            ]
           ],
           "sequentialminus": [
            [
             0,
             "#0d0887"
            ],
            [
             0.1111111111111111,
             "#46039f"
            ],
            [
             0.2222222222222222,
             "#7201a8"
            ],
            [
             0.3333333333333333,
             "#9c179e"
            ],
            [
             0.4444444444444444,
             "#bd3786"
            ],
            [
             0.5555555555555556,
             "#d8576b"
            ],
            [
             0.6666666666666666,
             "#ed7953"
            ],
            [
             0.7777777777777778,
             "#fb9f3a"
            ],
            [
             0.8888888888888888,
             "#fdca26"
            ],
            [
             1,
             "#f0f921"
            ]
           ]
          },
          "colorway": [
           "#636efa",
           "#EF553B",
           "#00cc96",
           "#ab63fa",
           "#FFA15A",
           "#19d3f3",
           "#FF6692",
           "#B6E880",
           "#FF97FF",
           "#FECB52"
          ],
          "font": {
           "color": "#2a3f5f"
          },
          "geo": {
           "bgcolor": "white",
           "lakecolor": "white",
           "landcolor": "#E5ECF6",
           "showlakes": true,
           "showland": true,
           "subunitcolor": "white"
          },
          "hoverlabel": {
           "align": "left"
          },
          "hovermode": "closest",
          "mapbox": {
           "style": "light"
          },
          "paper_bgcolor": "white",
          "plot_bgcolor": "#E5ECF6",
          "polar": {
           "angularaxis": {
            "gridcolor": "white",
            "linecolor": "white",
            "ticks": ""
           },
           "bgcolor": "#E5ECF6",
           "radialaxis": {
            "gridcolor": "white",
            "linecolor": "white",
            "ticks": ""
           }
          },
          "scene": {
           "xaxis": {
            "backgroundcolor": "#E5ECF6",
            "gridcolor": "white",
            "gridwidth": 2,
            "linecolor": "white",
            "showbackground": true,
            "ticks": "",
            "zerolinecolor": "white"
           },
           "yaxis": {
            "backgroundcolor": "#E5ECF6",
            "gridcolor": "white",
            "gridwidth": 2,
            "linecolor": "white",
            "showbackground": true,
            "ticks": "",
            "zerolinecolor": "white"
           },
           "zaxis": {
            "backgroundcolor": "#E5ECF6",
            "gridcolor": "white",
            "gridwidth": 2,
            "linecolor": "white",
            "showbackground": true,
            "ticks": "",
            "zerolinecolor": "white"
           }
          },
          "shapedefaults": {
           "line": {
            "color": "#2a3f5f"
           }
          },
          "ternary": {
           "aaxis": {
            "gridcolor": "white",
            "linecolor": "white",
            "ticks": ""
           },
           "baxis": {
            "gridcolor": "white",
            "linecolor": "white",
            "ticks": ""
           },
           "bgcolor": "#E5ECF6",
           "caxis": {
            "gridcolor": "white",
            "linecolor": "white",
            "ticks": ""
           }
          },
          "title": {
           "x": 0.05
          },
          "xaxis": {
           "automargin": true,
           "gridcolor": "white",
           "linecolor": "white",
           "ticks": "",
           "title": {
            "standoff": 15
           },
           "zerolinecolor": "white",
           "zerolinewidth": 2
          },
          "yaxis": {
           "automargin": true,
           "gridcolor": "white",
           "linecolor": "white",
           "ticks": "",
           "title": {
            "standoff": 15
           },
           "zerolinecolor": "white",
           "zerolinewidth": 2
          }
         }
        }
       }
      },
      "text/html": [
       "<div>                            <div id=\"aee1a70d-318d-4b97-a28f-b424da0e0701\" class=\"plotly-graph-div\" style=\"height:525px; width:100%;\"></div>            <script type=\"text/javascript\">                require([\"plotly\"], function(Plotly) {                    window.PLOTLYENV=window.PLOTLYENV || {};                                    if (document.getElementById(\"aee1a70d-318d-4b97-a28f-b424da0e0701\")) {                    Plotly.newPlot(                        \"aee1a70d-318d-4b97-a28f-b424da0e0701\",                        [{\"text\":[\"98.52%\",\"61.09%\",\"49.65%\",\"46.97%\",\"11.22%\"],\"x\":[7439,4613,3749,3547,847],\"y\":[\"MainScreenAppear\",\"OffersScreenAppear\",\"CartScreenAppear\",\"PaymentScreenSuccessful\",\"Tutorial\"],\"type\":\"funnel\"}],                        {\"template\":{\"data\":{\"bar\":[{\"error_x\":{\"color\":\"#2a3f5f\"},\"error_y\":{\"color\":\"#2a3f5f\"},\"marker\":{\"line\":{\"color\":\"#E5ECF6\",\"width\":0.5},\"pattern\":{\"fillmode\":\"overlay\",\"size\":10,\"solidity\":0.2}},\"type\":\"bar\"}],\"barpolar\":[{\"marker\":{\"line\":{\"color\":\"#E5ECF6\",\"width\":0.5},\"pattern\":{\"fillmode\":\"overlay\",\"size\":10,\"solidity\":0.2}},\"type\":\"barpolar\"}],\"carpet\":[{\"aaxis\":{\"endlinecolor\":\"#2a3f5f\",\"gridcolor\":\"white\",\"linecolor\":\"white\",\"minorgridcolor\":\"white\",\"startlinecolor\":\"#2a3f5f\"},\"baxis\":{\"endlinecolor\":\"#2a3f5f\",\"gridcolor\":\"white\",\"linecolor\":\"white\",\"minorgridcolor\":\"white\",\"startlinecolor\":\"#2a3f5f\"},\"type\":\"carpet\"}],\"choropleth\":[{\"colorbar\":{\"outlinewidth\":0,\"ticks\":\"\"},\"type\":\"choropleth\"}],\"contour\":[{\"colorbar\":{\"outlinewidth\":0,\"ticks\":\"\"},\"colorscale\":[[0.0,\"#0d0887\"],[0.1111111111111111,\"#46039f\"],[0.2222222222222222,\"#7201a8\"],[0.3333333333333333,\"#9c179e\"],[0.4444444444444444,\"#bd3786\"],[0.5555555555555556,\"#d8576b\"],[0.6666666666666666,\"#ed7953\"],[0.7777777777777778,\"#fb9f3a\"],[0.8888888888888888,\"#fdca26\"],[1.0,\"#f0f921\"]],\"type\":\"contour\"}],\"contourcarpet\":[{\"colorbar\":{\"outlinewidth\":0,\"ticks\":\"\"},\"type\":\"contourcarpet\"}],\"heatmap\":[{\"colorbar\":{\"outlinewidth\":0,\"ticks\":\"\"},\"colorscale\":[[0.0,\"#0d0887\"],[0.1111111111111111,\"#46039f\"],[0.2222222222222222,\"#7201a8\"],[0.3333333333333333,\"#9c179e\"],[0.4444444444444444,\"#bd3786\"],[0.5555555555555556,\"#d8576b\"],[0.6666666666666666,\"#ed7953\"],[0.7777777777777778,\"#fb9f3a\"],[0.8888888888888888,\"#fdca26\"],[1.0,\"#f0f921\"]],\"type\":\"heatmap\"}],\"heatmapgl\":[{\"colorbar\":{\"outlinewidth\":0,\"ticks\":\"\"},\"colorscale\":[[0.0,\"#0d0887\"],[0.1111111111111111,\"#46039f\"],[0.2222222222222222,\"#7201a8\"],[0.3333333333333333,\"#9c179e\"],[0.4444444444444444,\"#bd3786\"],[0.5555555555555556,\"#d8576b\"],[0.6666666666666666,\"#ed7953\"],[0.7777777777777778,\"#fb9f3a\"],[0.8888888888888888,\"#fdca26\"],[1.0,\"#f0f921\"]],\"type\":\"heatmapgl\"}],\"histogram\":[{\"marker\":{\"pattern\":{\"fillmode\":\"overlay\",\"size\":10,\"solidity\":0.2}},\"type\":\"histogram\"}],\"histogram2d\":[{\"colorbar\":{\"outlinewidth\":0,\"ticks\":\"\"},\"colorscale\":[[0.0,\"#0d0887\"],[0.1111111111111111,\"#46039f\"],[0.2222222222222222,\"#7201a8\"],[0.3333333333333333,\"#9c179e\"],[0.4444444444444444,\"#bd3786\"],[0.5555555555555556,\"#d8576b\"],[0.6666666666666666,\"#ed7953\"],[0.7777777777777778,\"#fb9f3a\"],[0.8888888888888888,\"#fdca26\"],[1.0,\"#f0f921\"]],\"type\":\"histogram2d\"}],\"histogram2dcontour\":[{\"colorbar\":{\"outlinewidth\":0,\"ticks\":\"\"},\"colorscale\":[[0.0,\"#0d0887\"],[0.1111111111111111,\"#46039f\"],[0.2222222222222222,\"#7201a8\"],[0.3333333333333333,\"#9c179e\"],[0.4444444444444444,\"#bd3786\"],[0.5555555555555556,\"#d8576b\"],[0.6666666666666666,\"#ed7953\"],[0.7777777777777778,\"#fb9f3a\"],[0.8888888888888888,\"#fdca26\"],[1.0,\"#f0f921\"]],\"type\":\"histogram2dcontour\"}],\"mesh3d\":[{\"colorbar\":{\"outlinewidth\":0,\"ticks\":\"\"},\"type\":\"mesh3d\"}],\"parcoords\":[{\"line\":{\"colorbar\":{\"outlinewidth\":0,\"ticks\":\"\"}},\"type\":\"parcoords\"}],\"pie\":[{\"automargin\":true,\"type\":\"pie\"}],\"scatter\":[{\"marker\":{\"colorbar\":{\"outlinewidth\":0,\"ticks\":\"\"}},\"type\":\"scatter\"}],\"scatter3d\":[{\"line\":{\"colorbar\":{\"outlinewidth\":0,\"ticks\":\"\"}},\"marker\":{\"colorbar\":{\"outlinewidth\":0,\"ticks\":\"\"}},\"type\":\"scatter3d\"}],\"scattercarpet\":[{\"marker\":{\"colorbar\":{\"outlinewidth\":0,\"ticks\":\"\"}},\"type\":\"scattercarpet\"}],\"scattergeo\":[{\"marker\":{\"colorbar\":{\"outlinewidth\":0,\"ticks\":\"\"}},\"type\":\"scattergeo\"}],\"scattergl\":[{\"marker\":{\"colorbar\":{\"outlinewidth\":0,\"ticks\":\"\"}},\"type\":\"scattergl\"}],\"scattermapbox\":[{\"marker\":{\"colorbar\":{\"outlinewidth\":0,\"ticks\":\"\"}},\"type\":\"scattermapbox\"}],\"scatterpolar\":[{\"marker\":{\"colorbar\":{\"outlinewidth\":0,\"ticks\":\"\"}},\"type\":\"scatterpolar\"}],\"scatterpolargl\":[{\"marker\":{\"colorbar\":{\"outlinewidth\":0,\"ticks\":\"\"}},\"type\":\"scatterpolargl\"}],\"scatterternary\":[{\"marker\":{\"colorbar\":{\"outlinewidth\":0,\"ticks\":\"\"}},\"type\":\"scatterternary\"}],\"surface\":[{\"colorbar\":{\"outlinewidth\":0,\"ticks\":\"\"},\"colorscale\":[[0.0,\"#0d0887\"],[0.1111111111111111,\"#46039f\"],[0.2222222222222222,\"#7201a8\"],[0.3333333333333333,\"#9c179e\"],[0.4444444444444444,\"#bd3786\"],[0.5555555555555556,\"#d8576b\"],[0.6666666666666666,\"#ed7953\"],[0.7777777777777778,\"#fb9f3a\"],[0.8888888888888888,\"#fdca26\"],[1.0,\"#f0f921\"]],\"type\":\"surface\"}],\"table\":[{\"cells\":{\"fill\":{\"color\":\"#EBF0F8\"},\"line\":{\"color\":\"white\"}},\"header\":{\"fill\":{\"color\":\"#C8D4E3\"},\"line\":{\"color\":\"white\"}},\"type\":\"table\"}]},\"layout\":{\"annotationdefaults\":{\"arrowcolor\":\"#2a3f5f\",\"arrowhead\":0,\"arrowwidth\":1},\"autotypenumbers\":\"strict\",\"coloraxis\":{\"colorbar\":{\"outlinewidth\":0,\"ticks\":\"\"}},\"colorscale\":{\"diverging\":[[0,\"#8e0152\"],[0.1,\"#c51b7d\"],[0.2,\"#de77ae\"],[0.3,\"#f1b6da\"],[0.4,\"#fde0ef\"],[0.5,\"#f7f7f7\"],[0.6,\"#e6f5d0\"],[0.7,\"#b8e186\"],[0.8,\"#7fbc41\"],[0.9,\"#4d9221\"],[1,\"#276419\"]],\"sequential\":[[0.0,\"#0d0887\"],[0.1111111111111111,\"#46039f\"],[0.2222222222222222,\"#7201a8\"],[0.3333333333333333,\"#9c179e\"],[0.4444444444444444,\"#bd3786\"],[0.5555555555555556,\"#d8576b\"],[0.6666666666666666,\"#ed7953\"],[0.7777777777777778,\"#fb9f3a\"],[0.8888888888888888,\"#fdca26\"],[1.0,\"#f0f921\"]],\"sequentialminus\":[[0.0,\"#0d0887\"],[0.1111111111111111,\"#46039f\"],[0.2222222222222222,\"#7201a8\"],[0.3333333333333333,\"#9c179e\"],[0.4444444444444444,\"#bd3786\"],[0.5555555555555556,\"#d8576b\"],[0.6666666666666666,\"#ed7953\"],[0.7777777777777778,\"#fb9f3a\"],[0.8888888888888888,\"#fdca26\"],[1.0,\"#f0f921\"]]},\"colorway\":[\"#636efa\",\"#EF553B\",\"#00cc96\",\"#ab63fa\",\"#FFA15A\",\"#19d3f3\",\"#FF6692\",\"#B6E880\",\"#FF97FF\",\"#FECB52\"],\"font\":{\"color\":\"#2a3f5f\"},\"geo\":{\"bgcolor\":\"white\",\"lakecolor\":\"white\",\"landcolor\":\"#E5ECF6\",\"showlakes\":true,\"showland\":true,\"subunitcolor\":\"white\"},\"hoverlabel\":{\"align\":\"left\"},\"hovermode\":\"closest\",\"mapbox\":{\"style\":\"light\"},\"paper_bgcolor\":\"white\",\"plot_bgcolor\":\"#E5ECF6\",\"polar\":{\"angularaxis\":{\"gridcolor\":\"white\",\"linecolor\":\"white\",\"ticks\":\"\"},\"bgcolor\":\"#E5ECF6\",\"radialaxis\":{\"gridcolor\":\"white\",\"linecolor\":\"white\",\"ticks\":\"\"}},\"scene\":{\"xaxis\":{\"backgroundcolor\":\"#E5ECF6\",\"gridcolor\":\"white\",\"gridwidth\":2,\"linecolor\":\"white\",\"showbackground\":true,\"ticks\":\"\",\"zerolinecolor\":\"white\"},\"yaxis\":{\"backgroundcolor\":\"#E5ECF6\",\"gridcolor\":\"white\",\"gridwidth\":2,\"linecolor\":\"white\",\"showbackground\":true,\"ticks\":\"\",\"zerolinecolor\":\"white\"},\"zaxis\":{\"backgroundcolor\":\"#E5ECF6\",\"gridcolor\":\"white\",\"gridwidth\":2,\"linecolor\":\"white\",\"showbackground\":true,\"ticks\":\"\",\"zerolinecolor\":\"white\"}},\"shapedefaults\":{\"line\":{\"color\":\"#2a3f5f\"}},\"ternary\":{\"aaxis\":{\"gridcolor\":\"white\",\"linecolor\":\"white\",\"ticks\":\"\"},\"baxis\":{\"gridcolor\":\"white\",\"linecolor\":\"white\",\"ticks\":\"\"},\"bgcolor\":\"#E5ECF6\",\"caxis\":{\"gridcolor\":\"white\",\"linecolor\":\"white\",\"ticks\":\"\"}},\"title\":{\"x\":0.05},\"xaxis\":{\"automargin\":true,\"gridcolor\":\"white\",\"linecolor\":\"white\",\"ticks\":\"\",\"title\":{\"standoff\":15},\"zerolinecolor\":\"white\",\"zerolinewidth\":2},\"yaxis\":{\"automargin\":true,\"gridcolor\":\"white\",\"linecolor\":\"white\",\"ticks\":\"\",\"title\":{\"standoff\":15},\"zerolinecolor\":\"white\",\"zerolinewidth\":2}}}},                        {\"responsive\": true}                    ).then(function(){\n",
       "                            \n",
       "var gd = document.getElementById('aee1a70d-318d-4b97-a28f-b424da0e0701');\n",
       "var x = new MutationObserver(function (mutations, observer) {{\n",
       "        var display = window.getComputedStyle(gd).display;\n",
       "        if (!display || display === 'none') {{\n",
       "            console.log([gd, 'removed!']);\n",
       "            Plotly.purge(gd);\n",
       "            observer.disconnect();\n",
       "        }}\n",
       "}});\n",
       "\n",
       "// Listen for the removal of the full notebook cells\n",
       "var notebookContainer = gd.closest('#notebook-container');\n",
       "if (notebookContainer) {{\n",
       "    x.observe(notebookContainer, {childList: true});\n",
       "}}\n",
       "\n",
       "// Listen for the clearing of the current output cell\n",
       "var outputEl = gd.closest('.output');\n",
       "if (outputEl) {{\n",
       "    x.observe(outputEl, {childList: true});\n",
       "}}\n",
       "\n",
       "                        })                };                });            </script>        </div>"
      ]
     },
     "metadata": {},
     "output_type": "display_data"
    }
   ],
   "source": [
    "fig = go.Figure(go.Funnel(\n",
    "    y = ['MainScreenAppear', 'OffersScreenAppear', 'CartScreenAppear', 'PaymentScreenSuccessful', 'Tutorial'],\n",
    "    x = [7439, 4613, 3749, 3547, 847],\n",
    "    text=proportion_users_per_event.sort_values(ascending=False).apply(lambda x: f'{x:.2f}%')\n",
    "))\n",
    "fig.show()"
   ]
  },
  {
   "cell_type": "markdown",
   "metadata": {},
   "source": [
    "4. El gráfico nos muestra la cantidad de usuarios que pertenecen a cada uno de los eventos y como va disminuyendo la cantidad de usuarios hasta llegar a la última etapa. Se pierden mas usuarios en las etapas de MainScreenAppear a OfferScreen con 2826 usuarios y en la transición de PaymentScreen a Tutorial 2700 usuarios. Al final solo llega el 47.97% a realizar el pago y un 11.22% a llevar el tutorial."
   ]
  },
  {
   "cell_type": "markdown",
   "metadata": {},
   "source": [
    "3. Averiguaremos en que orden ocurrieron las acciones y si es que todas son parte de una sola secuencia"
   ]
  },
  {
   "cell_type": "code",
   "execution_count": 139,
   "metadata": {
    "scrolled": false
   },
   "outputs": [
    {
     "name": "stdout",
     "output_type": "stream",
     "text": [
      "MainScreenAppear -> MainScreenAppear -> MainScreenAppear -> MainScreenAppear -> MainScreenAppear                                                                                                                            158\n",
      "MainScreenAppear -> MainScreenAppear -> MainScreenAppear -> MainScreenAppear -> MainScreenAppear -> MainScreenAppear                                                                                                        146\n",
      "MainScreenAppear -> MainScreenAppear -> MainScreenAppear -> MainScreenAppear                                                                                                                                                146\n",
      "MainScreenAppear -> MainScreenAppear -> MainScreenAppear -> MainScreenAppear -> MainScreenAppear -> MainScreenAppear -> MainScreenAppear -> MainScreenAppear                                                                145\n",
      "MainScreenAppear -> MainScreenAppear -> MainScreenAppear                                                                                                                                                                    144\n",
      "MainScreenAppear -> MainScreenAppear -> MainScreenAppear -> MainScreenAppear -> MainScreenAppear -> MainScreenAppear -> MainScreenAppear                                                                                    137\n",
      "MainScreenAppear -> MainScreenAppear -> MainScreenAppear -> MainScreenAppear -> MainScreenAppear -> MainScreenAppear -> MainScreenAppear -> MainScreenAppear -> MainScreenAppear                                            125\n",
      "MainScreenAppear -> MainScreenAppear                                                                                                                                                                                        125\n",
      "MainScreenAppear                                                                                                                                                                                                            106\n",
      "MainScreenAppear -> MainScreenAppear -> MainScreenAppear -> MainScreenAppear -> MainScreenAppear -> MainScreenAppear -> MainScreenAppear -> MainScreenAppear -> MainScreenAppear -> MainScreenAppear -> MainScreenAppear     99\n",
      "Name: EventName, dtype: int64\n"
     ]
    }
   ],
   "source": [
    "#Nos aseguramos que los datos estén ordenados por usuario y tiempo\n",
    "logs_exp_sorted = logs_exp.sort_values(by=['DeviceIDHash', 'DateTime'])\n",
    "\n",
    "#Contatenamos los nombre de los eventos en el orden que ocurrieron para cada tipo de usuario\n",
    "event_sequences = logs_exp_sorted.groupby('DeviceIDHash')['EventName'].apply(lambda x: ' -> '.join(x))\n",
    "\n",
    "#Contamos las frecuencias de ocurrencia de acciones mas comunes\n",
    "sequences_counts = event_sequences.value_counts()\n",
    "print(sequences_counts.head(10))"
   ]
  },
  {
   "cell_type": "markdown",
   "metadata": {},
   "source": [
    "Este es el orden de flujo que aparecerá en la mayoría de los casos, no se sabe con certeza la posibilidad de que los usuarios realicen en orden diferente los eventos, existen posibilidades de que se salteen eventos si es que la aplicación mantiene la sesión abierta, o tal vez con un link puedan llegar directamente a la oferta, incluso poder saltar directamente hasta CartScreen la parte del carrito de compras, muchas veces tiene su propia URL. Puede existir la posibilidad de estar en el carrito de compras y  regresar a MainScreen a comprar algo más que pueda haber olvidado el usuario."
   ]
  },
  {
   "cell_type": "markdown",
   "metadata": {},
   "source": [
    "### Paso 5: Estudiar los resultados del experimento"
   ]
  },
  {
   "cell_type": "code",
   "execution_count": 140,
   "metadata": {},
   "outputs": [
    {
     "name": "stdout",
     "output_type": "stream",
     "text": [
      "ExpId\n",
      "246    2489\n",
      "247    2520\n",
      "248    2542\n",
      "Name: DeviceIDHash, dtype: int64\n"
     ]
    }
   ],
   "source": [
    "#Averiguaremos cuantos usuarios hay por evento\n",
    "users_per_group = logs_exp_sorted.groupby('ExpId')['DeviceIDHash'].nunique()\n",
    "print(users_per_group)"
   ]
  },
  {
   "cell_type": "markdown",
   "metadata": {},
   "source": [
    "2.Tenemos dos grupos de control en el test A/A, donde comprobamos nuestros mecanismos y cálculos. Observaremos si hay una diferencia estadísticamente significativa entre las muestras 246 y 247."
   ]
  },
  {
   "cell_type": "code",
   "execution_count": 141,
   "metadata": {},
   "outputs": [
    {
     "name": "stdout",
     "output_type": "stream",
     "text": [
      "['MainScreenAppear' 'PaymentScreenSuccessful' 'CartScreenAppear'\n",
      " 'OffersScreenAppear' 'Tutorial']\n"
     ]
    }
   ],
   "source": [
    "#Filtramos los datos para los grupos 246 y 247\n",
    "group_246 = logs_exp[logs_exp['ExpId'] == 246]\n",
    "group_247 = logs_exp[logs_exp['ExpId'] == 247]\n",
    "\n",
    "#Obtenemos los eventos únicos\n",
    "events = logs_exp['EventName'].unique()\n",
    "print(events)"
   ]
  },
  {
   "cell_type": "code",
   "execution_count": 142,
   "metadata": {},
   "outputs": [
    {
     "name": "stdout",
     "output_type": "stream",
     "text": [
      "                 EventName  Shapiro_246_pvalue  Shapiro_247_pvalue  \\\n",
      "0         MainScreenAppear        0.000000e+00        0.000000e+00   \n",
      "1  PaymentScreenSuccessful        0.000000e+00        0.000000e+00   \n",
      "2         CartScreenAppear        0.000000e+00        0.000000e+00   \n",
      "3       OffersScreenAppear        0.000000e+00        0.000000e+00   \n",
      "4                 Tutorial        4.043993e-32        2.540946e-33   \n",
      "\n",
      "   Levene_pvalue  MannWhitney_pvalue  \n",
      "0       0.286818            0.612596  \n",
      "1       0.206512            0.390494  \n",
      "2       0.103485            0.518247  \n",
      "3       0.160090            0.763865  \n",
      "4       0.096084            0.253391  \n"
     ]
    }
   ],
   "source": [
    "#Creamos un DataFrame para guardar los resultados de las pruebas\n",
    "results = pd.DataFrame(columns=['EventName', 'Shapiro_246_pvalue', 'Shapiro_247_pvalue', 'Levene_pvalue', 'MannWhitney_pvalue'])\n",
    "\n",
    "#Comparamos cada evento entre los dos grupos\n",
    "for event in events:\n",
    "    event_246 = group_246[group_246['EventName'] == event]['DeviceIDHash'].value_counts()\n",
    "    event_247 = group_247[group_247['EventName'] == event]['DeviceIDHash'].value_counts()\n",
    "    \n",
    "    #Realizamos la prueba de SHAPIRO-WILK para verificar la normalidad de los datos\n",
    "    shapiro_246_stat, shapiro_246_p = shapiro(event_246)\n",
    "    shapiro_247stat, shapiro_247_p = shapiro(event_247)\n",
    "    \n",
    "    #Realizamos la prueba de Levene para verificar la igualdad de varianza\n",
    "    levene_stat, levene_p = levene(event_246, event_247, center='mean')\n",
    "    \n",
    "    #Realizamos la prueba de # Realizar la prueba de Mann-Whitney para comparar las medianas si los datos no son normales\n",
    "    mann_stat, mann_p = mannwhitneyu(event_246, event_247, alternative='two-sided')\n",
    "    \n",
    "    # Almacenamos los resultados\n",
    "    results = results.append({\n",
    "        'EventName': event,\n",
    "        'Shapiro_246_pvalue': shapiro_246_p,\n",
    "        'Shapiro_247_pvalue': shapiro_247_p,\n",
    "        'Levene_pvalue': levene_p,\n",
    "        'MannWhitney_pvalue': mann_p\n",
    "    }, ignore_index=True)\n",
    "\n",
    "print(results)"
   ]
  },
  {
   "cell_type": "code",
   "execution_count": 143,
   "metadata": {
    "scrolled": false
   },
   "outputs": [
    {
     "name": "stdout",
     "output_type": "stream",
     "text": [
      "\n",
      "Eventos con diferencias significativas en la varianza (Levene test):\n",
      "Empty DataFrame\n",
      "Columns: [EventName, Shapiro_246_pvalue, Shapiro_247_pvalue, Levene_pvalue, MannWhitney_pvalue]\n",
      "Index: []\n",
      "\n",
      "Eventos con diferencias significativas en la mediana (Mann-Whitney test):\n",
      "Empty DataFrame\n",
      "Columns: [EventName, Shapiro_246_pvalue, Shapiro_247_pvalue, Levene_pvalue, MannWhitney_pvalue]\n",
      "Index: []\n"
     ]
    }
   ],
   "source": [
    "# Verificamos si hay diferencias estadísticamente significativas\n",
    "significant_levene = results[results['Levene_pvalue'] < 0.05]\n",
    "significant_mannwhitney = results[results['MannWhitney_pvalue'] < 0.05]\n",
    "\n",
    "print(\"\\nEventos con diferencias significativas en la varianza (Levene test):\")\n",
    "print(significant_levene)\n",
    "\n",
    "print(\"\\nEventos con diferencias significativas en la mediana (Mann-Whitney test):\")\n",
    "print(significant_mannwhitney)"
   ]
  },
  {
   "cell_type": "markdown",
   "metadata": {},
   "source": [
    "De acuerdo a los resultados Shapiro_246_pvalue y Shapiro_247_pvalue: Los valores p para ambas columnas son extremadamente bajos (0.000000e+00), lo que significa que se rechaza la hipótesis nula de que los datos siguen una distribución normal. En otras palabras, los datos en ambos grupos (246 y 247) no son normales para todos los eventos.\n",
    "\n",
    "De acuerdo a los resultados Levene verifica si las varianzas de los dos grupos son iguales. Los valores p son todos mayores que 0.05, lo que indica que no hay diferencias significativas en la varianza entre los grupos 246 y 247 para ninguno de los eventos. Esto significa que las varianzas de los eventos en ambos grupos son similares.\n",
    "\n",
    "La prueba de Mann-Whitney compara las medianas de los dos grupos. Los valores p son todos mayores que 0.05, lo que significa que no hay diferencias estadísticamente significativas en las medianas de los eventos entre los grupos 246 y 247. Esto significa que la distribución de los eventos en ambos grupos es similar en los valores de las medianas."
   ]
  },
  {
   "cell_type": "markdown",
   "metadata": {},
   "source": [
    "3.1 Averiguaremos cual es el evento más popular. En cada uno de los grupos de control, buscaremos la cantidad de usuarios y usuarias que realizaron esta acción y encontraremos su proporción."
   ]
  },
  {
   "cell_type": "code",
   "execution_count": 144,
   "metadata": {},
   "outputs": [
    {
     "name": "stdout",
     "output_type": "stream",
     "text": [
      "MainScreenAppear           119101\n",
      "OffersScreenAppear          46808\n",
      "CartScreenAppear            42668\n",
      "PaymentScreenSuccessful     34118\n",
      "Tutorial                     1018\n",
      "Name: EventName, dtype: int64\n"
     ]
    }
   ],
   "source": [
    "#Encontramos el evento más popular\n",
    "most_popular_event = logs_exp['EventName'].value_counts(ascending=False)\n",
    "print(most_popular_event)"
   ]
  },
  {
   "cell_type": "code",
   "execution_count": 145,
   "metadata": {},
   "outputs": [
    {
     "name": "stdout",
     "output_type": "stream",
     "text": [
      "Cantidad de usuarios que realizaron el evento más popular en grupo 246:\n",
      "2456\n",
      "\n",
      "Cantidad de usuarios que realizaron el evento más popular en grupo 247:\n",
      "2482\n"
     ]
    }
   ],
   "source": [
    "#Analizamos la cantidad de usuarios que realizaron el evento más popular\n",
    "users_246 = group_246[group_246['EventName'] == 'MainScreenAppear']['DeviceIDHash'].nunique()\n",
    "users_247 = group_247[group_247['EventName'] == 'MainScreenAppear']['DeviceIDHash'].nunique()\n",
    "print(\"Cantidad de usuarios que realizaron el evento más popular en grupo 246:\")\n",
    "print(users_246)\n",
    "print(\"\\nCantidad de usuarios que realizaron el evento más popular en grupo 247:\")\n",
    "print(users_247)"
   ]
  },
  {
   "cell_type": "code",
   "execution_count": 146,
   "metadata": {},
   "outputs": [
    {
     "name": "stdout",
     "output_type": "stream",
     "text": [
      "2489\n",
      "2520\n"
     ]
    }
   ],
   "source": [
    "#Calcularemos la proporción de usuarios que realizaron el evento más popular\n",
    "\n",
    "#total de usuarions en cada grupo\n",
    "total_users_246 = group_246['DeviceIDHash'].nunique()\n",
    "total_users_247 = group_247['DeviceIDHash'].nunique()\n",
    "print(total_users_246)\n",
    "print(total_users_247)"
   ]
  },
  {
   "cell_type": "code",
   "execution_count": 147,
   "metadata": {},
   "outputs": [
    {
     "name": "stdout",
     "output_type": "stream",
     "text": [
      "Proporción de usuarios que realizaron el evento más popular en grupo 246:\n",
      "98.67416633186018\n",
      "Proporción de usuarios que realizaron el evento más popular en grupo 247:\n",
      "98.4920634920635\n"
     ]
    }
   ],
   "source": [
    "#Proporción de usuarios que realizaron el evento más popular\n",
    "proportion_246 = (users_246 / total_users_246)*100\n",
    "proportion_247 = (users_247 / total_users_247)*100\n",
    "print(\"Proporción de usuarios que realizaron el evento más popular en grupo 246:\")\n",
    "print(proportion_246)\n",
    "print(\"Proporción de usuarios que realizaron el evento más popular en grupo 247:\")\n",
    "print(proportion_247)"
   ]
  },
  {
   "cell_type": "markdown",
   "metadata": {},
   "source": [
    "3.2 Comprobaremos si la diferencia entre los grupos es estadísticamente significativa. Repetiremos el procedimiento para todos los demás eventos."
   ]
  },
  {
   "cell_type": "markdown",
   "metadata": {},
   "source": [
    "Ya comprobamos que los datos no siguen una ditribución normal, es por eso que utilizaremos la prueba de Mann-Whitney U"
   ]
  },
  {
   "cell_type": "code",
   "execution_count": 148,
   "metadata": {},
   "outputs": [],
   "source": [
    "#Utilizaremos una función para ahorrar tiempo en las comparaciones entre los grupos:\n",
    "def mann_whitney_test(event_name, group_1, group_2):\n",
    "    # Contar la cantidad de usuarios únicos que realizaron el evento en cada grupo\n",
    "    group_1_event_count = group_1[group_1['EventName'] == event_name]['DeviceIDHash'].nunique()\n",
    "    group_2_event_count = group_2[group_2['EventName'] == event_name]['DeviceIDHash'].nunique()\n",
    "    \n",
    "    # Creamos una lista con las cantidades de usuarios por grupo\n",
    "    data = [group_1_event_count, group_2_event_count]\n",
    "    \n",
    "    # Realizamos la prueba de Mann-Whitney \n",
    "    stat, p_value = stats.mannwhitneyu(data, data, alternative='two-sided')\n",
    "    \n",
    "    return p_value"
   ]
  },
  {
   "cell_type": "code",
   "execution_count": 149,
   "metadata": {},
   "outputs": [],
   "source": [
    "# Seleccionamos los eventos únicos\n",
    "events = logs_exp['EventName'].unique()\n",
    "\n",
    "# Filtramos los datos para los grupos de control 246 y 247 y el grupo experimental 248\n",
    "group_246 = logs_exp[logs_exp['ExpId'] == 246]\n",
    "group_247 = logs_exp[logs_exp['ExpId'] == 247]\n",
    "group_248 = logs_exp[logs_exp['ExpId'] == 248]\n",
    "\n",
    "# Realizamos las pruebas A/A para cada evento\n",
    "aa_results = {}\n",
    "for event in events:\n",
    "    p_value = mann_whitney_test(event, group_246, group_247)\n",
    "    aa_results[event] = p_value\n",
    "\n",
    "# Realizamos las pruebas A/B para cada evento\n",
    "ab_results = {}\n",
    "for event in events:\n",
    "    p_value = mann_whitney_test(event, group_246, group_248)\n",
    "    ab_results[event] = p_value"
   ]
  },
  {
   "cell_type": "code",
   "execution_count": 150,
   "metadata": {},
   "outputs": [
    {
     "name": "stdout",
     "output_type": "stream",
     "text": [
      "Resultados de la prueba A/A (Grupo 246 vs Grupo 247):\n",
      "Evento: MainScreenAppear, p-value: 1.000000\n",
      "Evento: PaymentScreenSuccessful, p-value: 1.000000\n",
      "Evento: CartScreenAppear, p-value: 1.000000\n",
      "Evento: OffersScreenAppear, p-value: 1.000000\n",
      "Evento: Tutorial, p-value: 1.000000\n",
      "\n",
      "Resultados de la prueba A/B (Grupo 246 vs Grupo 248):\n",
      "Evento: MainScreenAppear, p-value: 1.000000\n",
      "Evento: PaymentScreenSuccessful, p-value: 1.000000\n",
      "Evento: CartScreenAppear, p-value: 1.000000\n",
      "Evento: OffersScreenAppear, p-value: 1.000000\n",
      "Evento: Tutorial, p-value: 1.000000\n",
      "\n",
      "¿La separación de los grupos A/A fue correcta? Sí\n"
     ]
    }
   ],
   "source": [
    "# Mostramos los resultados de la función y las pruebas\n",
    "print(\"Resultados de la prueba A/A (Grupo 246 vs Grupo 247):\")\n",
    "for event, p_value in aa_results.items():\n",
    "    print(f\"Evento: {event}, p-value: {p_value:.6f}\")\n",
    "\n",
    "print(\"\\nResultados de la prueba A/B (Grupo 246 vs Grupo 248):\")\n",
    "for event, p_value in ab_results.items():\n",
    "    print(f\"Evento: {event}, p-value: {p_value:.6f}\")\n",
    "\n",
    "# Confirmamos si tenemos una correcta división de los grupos\n",
    "significance_threshold = 0.05\n",
    "aa_correct = all(p > significance_threshold for p in aa_results.values())\n",
    "print(f\"\\n¿La separación de los grupos A/A fue correcta? {'Sí' if aa_correct else 'No'}\")"
   ]
  },
  {
   "cell_type": "markdown",
   "metadata": {},
   "source": [
    "En la prueba A/A: Los resultados nos indican que un p-valor de 1.000 significa que no hay evidencia suficiente para rechazar la hipótesis nula de que no hay diferencias en la cantidad de usuarios que realizaron los eventos entre los dos grupos de control. Esto significa que la división de los usuarios en los grupos de control se realizó correctamente."
   ]
  },
  {
   "cell_type": "markdown",
   "metadata": {},
   "source": [
    "En la prueba A/B. El valor de p-valor de 1.000 también nos indica que no hay evidencia suficiente para rechazar la hipótesis nula de que no hay diferencias en la cantidad de usuarios que realizaron los eventos entre el grupo de control 246 y el grupo experimental 248. Este resultado significa que según los datos de eventos, el grupo experimental 248 no muestra diferencias significativas en los eventos en comparación con el grupo de control 246."
   ]
  },
  {
   "cell_type": "markdown",
   "metadata": {},
   "source": [
    "4. Ahora haremos lo mismo para el grupo con fuentes alteradas. Compararemos los resultados con los de cada uno de los grupos de control para cada evento de forma aislada y Compararemos los resultados con los resultados combinados de los grupos de control. "
   ]
  },
  {
   "cell_type": "code",
   "execution_count": 151,
   "metadata": {},
   "outputs": [],
   "source": [
    "#Función para realizar las pruebas A/A y A/B con fuentes alteradas\n",
    "def compare_events(group_a, group_b, event_name):\n",
    "    users_a = group_a[group_a['EventName'] == event_name]['DeviceIDHash'].nunique()\n",
    "    users_b = group_b[group_b['EventName'] == event_name]['DeviceIDHash'].nunique()\n",
    "    \n",
    "    # Realizamos la prueba de Mann-Whitney\n",
    "    mannwhitney_pvalue = stats.mannwhitneyu(\n",
    "        group_a[group_a['EventName'] == event_name]['DeviceIDHash'].rank(),\n",
    "        group_b[group_b['EventName'] == event_name]['DeviceIDHash'].rank(),\n",
    "        alternative='two-sided'\n",
    "    ).pvalue\n",
    "    \n",
    "    return users_a, users_b, mannwhitney_pvalue"
   ]
  },
  {
   "cell_type": "code",
   "execution_count": 152,
   "metadata": {},
   "outputs": [
    {
     "name": "stdout",
     "output_type": "stream",
     "text": [
      "                 EventName  Users_246  Users_247  Users_248     p_value_AA  \\\n",
      "0         MainScreenAppear       2456       2482       2501   3.484233e-18   \n",
      "1  PaymentScreenSuccessful       1202       1160       1185   1.382241e-92   \n",
      "2         CartScreenAppear       1270       1240       1239  3.428103e-106   \n",
      "3       OffersScreenAppear       1545       1530       1538   1.707279e-05   \n",
      "4                 Tutorial        279        286        282   8.165029e-02   \n",
      "\n",
      "     p_value_AB  \n",
      "0  2.382053e-67  \n",
      "1  4.330185e-03  \n",
      "2  2.237995e-07  \n",
      "3  2.545241e-53  \n",
      "4  1.945941e-02  \n"
     ]
    }
   ],
   "source": [
    "#Ahora iteramos sobre los eventos y realizamos las pruebas:\n",
    "event_results = []\n",
    "for event in logs_exp['EventName'].unique():\n",
    "    users_246, users_247, p_value_aa = compare_events(group_246, group_247, event)\n",
    "    users_246, users_248, p_value_ab = compare_events(group_246, group_248, event)\n",
    "\n",
    "    event_results.append({\n",
    "        'EventName': event,\n",
    "        'Users_246': users_246,\n",
    "        'Users_247': users_247,\n",
    "        'Users_248': users_248,\n",
    "        'p_value_AA': p_value_aa,\n",
    "        'p_value_AB': p_value_ab\n",
    "    })\n",
    "\n",
    "results_df = pd.DataFrame(event_results)\n",
    "print(results_df)"
   ]
  },
  {
   "cell_type": "markdown",
   "metadata": {},
   "source": [
    "Comparación de forma aislada - Comparación A/A (Grupos 246 vs 247): Valores extremadamente bajos de p-value (cerca de 0): Indican que existen diferencias estadísticamente significativas entre los grupos de control 246 y 247 para esos eventos, especialmente en los eventos \"PaymentScreenSuccessful\" y \"CartScreenAppear\", quiere decir que estos dos grupos no se dividieron de manera equitativa para esos eventos."
   ]
  },
  {
   "cell_type": "markdown",
   "metadata": {},
   "source": [
    "Comparación combinada - Comparación A/B (Grupos 246 y 247 vs 248): Valores bajos de p-value (cerca o inferiores a 0.05): Esto indica que existen diferencias estadísticamente significativas entre el grupo combinado y el grupo experimental 248. Para eventos como \"MainScreenAppear\", \"CartScreenAppear\", y \"OffersScreenAppear\", el p-value es extremadamente bajo, lo que quiere decir que la intervención realizada en el grupo experimental 248 tiene una comparación grande con el grupo de control 248."
   ]
  },
  {
   "cell_type": "markdown",
   "metadata": {},
   "source": [
    "5.Ya que hemos realizado muchos tests tenemos la probabilidad de que nuestros resultados sean incorrectos, tenemos que darle un nuevo valor, ahora trabajaremos un al alfa de 0.025. Realizaremos el mismo procedimiento y veremos los resultados."
   ]
  },
  {
   "cell_type": "code",
   "execution_count": 157,
   "metadata": {},
   "outputs": [],
   "source": [
    "# Función para realizar las pruebas estadísticas\n",
    "def perform_tests(group_control, group_experiment, event_name):\n",
    "    # Filtramos los datos para el evento específico\n",
    "    control_data = group_control[group_control['EventName'] == event_name]['DeviceIDHash'].dropna().astype('int64')\n",
    "    experiment_data = group_experiment[group_experiment['EventName'] == event_name]['DeviceIDHash'].dropna().astype('int64')\n",
    "    \n",
    "    # Prueba de Levene para la igualdad de varianzas\n",
    "    levene_pvalue = levene(control_data, experiment_data)[1]\n",
    "    \n",
    "    # Prueba de Mann-Whitney U para comparar las distribuciones\n",
    "    mannwhitney_pvalue = mannwhitneyu(control_data, experiment_data, alternative='two-sided')[1]\n",
    "    \n",
    "    return levene_pvalue, mannwhitney_pvalue"
   ]
  },
  {
   "cell_type": "code",
   "execution_count": 158,
   "metadata": {},
   "outputs": [],
   "source": [
    "# Seleccionamos los eventos\n",
    "event_names = logs_exp['EventName'].unique()\n",
    "\n",
    "# Grupos\n",
    "group_246 = logs_exp[logs_exp['ExpId'] == 246]\n",
    "group_247 = logs_exp[logs_exp['ExpId'] == 247]\n",
    "group_248 = logs_exp[logs_exp['ExpId'] == 248]\n",
    "group_control_combined = pd.concat([group_246, group_247])"
   ]
  },
  {
   "cell_type": "code",
   "execution_count": 159,
   "metadata": {},
   "outputs": [],
   "source": [
    "# Creamos un DataFrame para almacenar los resultados\n",
    "results = []\n",
    "\n",
    "# Realizamos las pruebas para cada evento\n",
    "for event in event_names:\n",
    "    # Prueba A/B: 246 vs 248\n",
    "    levene_pvalue_246_248, mannwhitney_pvalue_246_248 = perform_tests(group_246, group_248, event)\n",
    "    \n",
    "    # Prueba A/B: 247 vs 248\n",
    "    levene_pvalue_247_248, mannwhitney_pvalue_247_248 = perform_tests(group_247, group_248, event)\n",
    "    \n",
    "    # Prueba combinada A/B: 246 + 247 vs 248\n",
    "    levene_pvalue_combined_248, mannwhitney_pvalue_combined_248 = perform_tests(group_control_combined, group_248, event)\n",
    "    \n",
    "    # Agregamos los resultados al DataFrame\n",
    "    results.append({\n",
    "        'EventName': event,\n",
    "        'Levene_pvalue_246_248': levene_pvalue_246_248,\n",
    "        'MannWhitney_pvalue_246_248': mannwhitney_pvalue_246_248,\n",
    "        'Levene_pvalue_247_248': levene_pvalue_247_248,\n",
    "        'MannWhitney_pvalue_247_248': mannwhitney_pvalue_247_248,\n",
    "        'Levene_pvalue_combined_248': levene_pvalue_combined_248,\n",
    "        'MannWhitney_pvalue_combined_248': mannwhitney_pvalue_combined_248\n",
    "    })\n",
    "\n",
    "# Convertimos los resultados a un DataFrame para facilitarnos su visualización\n",
    "results_df = pd.DataFrame(results)"
   ]
  },
  {
   "cell_type": "code",
   "execution_count": 162,
   "metadata": {},
   "outputs": [
    {
     "name": "stdout",
     "output_type": "stream",
     "text": [
      "Resultados significativos después de ajustar el valor alfa:\n",
      "                 EventName  Levene_pvalue_246_248  MannWhitney_pvalue_246_248  \\\n",
      "0         MainScreenAppear           8.532718e-12                1.663407e-01   \n",
      "1  PaymentScreenSuccessful          4.542926e-122                1.833392e-06   \n",
      "2         CartScreenAppear          7.947006e-134                2.471692e-08   \n",
      "3       OffersScreenAppear           4.637580e-41                7.742008e-22   \n",
      "\n",
      "   Levene_pvalue_247_248  MannWhitney_pvalue_247_248  \\\n",
      "0               0.393989                1.061412e-08   \n",
      "1               0.293956                6.883948e-04   \n",
      "2               0.098434                2.816445e-02   \n",
      "3               0.002152                7.917001e-01   \n",
      "\n",
      "   Levene_pvalue_combined_248  MannWhitney_pvalue_combined_248  \n",
      "0                9.146633e-06                     3.251466e-05  \n",
      "1                6.806816e-44                     1.554178e-06  \n",
      "2                5.038985e-46                     3.361223e-06  \n",
      "3                6.856356e-22                     1.326566e-08  \n"
     ]
    }
   ],
   "source": [
    "# Filtramos los resultados con un alfa ajustado de 0.025\n",
    "significant_results = results_df[\n",
    "    (results_df['MannWhitney_pvalue_246_248'] < 0.025) |\n",
    "    (results_df['MannWhitney_pvalue_247_248'] < 0.025) |\n",
    "    (results_df['MannWhitney_pvalue_combined_248'] < 0.025)\n",
    "]\n",
    "\n",
    "print(\"Resultados significativos después de ajustar el valor alfa:\")\n",
    "print(significant_results)"
   ]
  },
  {
   "cell_type": "markdown",
   "metadata": {},
   "source": [
    "Conclusiones de los resultados:El evento \"OffersScreenAppear\" muestra diferencias significativas en la varianza y en la distribución, sobre todo entre el grupo 246 y el combinado con el grupo 248. Esto indica que las ofertas podrían haberse presentado de manera diferente en el grupo experimental.\n",
    "\n",
    "Dado que los resultados nos indican que hay diferencias significativas entre los grupos de control y el grupo experimental en varios eventos. Esto podría sugerir que el grupo experimental se comportó de manera diferente debido a algunas alteraciones introducidas. Los grupos de control 246 y 247 parecen no mostrar diferencias significativas, lo que indica que la separación de los usuarios en estos grupos fue adecuada. Sin embargo, el grupo experimental (248) muestra comportamientos distintos, lo que puede estar relacionado con el experimento aplicado."
   ]
  }
 ],
 "metadata": {
  "ExecuteTimeLog": [
   {
    "duration": 315,
    "start_time": "2024-08-13T14:04:48.608Z"
   },
   {
    "duration": 5108,
    "start_time": "2024-08-13T14:04:55.593Z"
   },
   {
    "duration": 356,
    "start_time": "2024-08-13T14:05:01.079Z"
   },
   {
    "duration": 25,
    "start_time": "2024-08-13T14:05:40.666Z"
   },
   {
    "duration": 4,
    "start_time": "2024-08-13T14:08:23.179Z"
   },
   {
    "duration": 120,
    "start_time": "2024-08-13T14:15:30.628Z"
   },
   {
    "duration": 23,
    "start_time": "2024-08-13T14:16:00.845Z"
   },
   {
    "duration": 5,
    "start_time": "2024-08-13T14:16:18.867Z"
   },
   {
    "duration": 24,
    "start_time": "2024-08-13T14:16:19.932Z"
   },
   {
    "duration": 317,
    "start_time": "2024-08-13T14:16:42.879Z"
   },
   {
    "duration": 22,
    "start_time": "2024-08-13T14:16:47.141Z"
   },
   {
    "duration": 5,
    "start_time": "2024-08-13T14:16:55.220Z"
   },
   {
    "duration": 9,
    "start_time": "2024-08-13T14:17:09.519Z"
   },
   {
    "duration": 338,
    "start_time": "2024-08-13T14:17:25.274Z"
   },
   {
    "duration": 6,
    "start_time": "2024-08-13T14:17:39.007Z"
   },
   {
    "duration": 350,
    "start_time": "2024-08-13T14:17:45.749Z"
   },
   {
    "duration": 23,
    "start_time": "2024-08-13T14:17:48.444Z"
   },
   {
    "duration": 4,
    "start_time": "2024-08-13T14:17:54.644Z"
   },
   {
    "duration": 871,
    "start_time": "2024-08-13T14:23:30.055Z"
   },
   {
    "duration": 516,
    "start_time": "2024-08-13T14:24:17.005Z"
   },
   {
    "duration": 50,
    "start_time": "2024-08-13T14:24:28.859Z"
   },
   {
    "duration": 8,
    "start_time": "2024-08-13T14:24:38.725Z"
   },
   {
    "duration": 5,
    "start_time": "2024-08-13T14:25:02.816Z"
   },
   {
    "duration": 322,
    "start_time": "2024-08-13T14:25:02.826Z"
   },
   {
    "duration": 25,
    "start_time": "2024-08-13T14:25:03.151Z"
   },
   {
    "duration": 4,
    "start_time": "2024-08-13T14:25:08.677Z"
   },
   {
    "duration": 1088,
    "start_time": "2024-08-13T14:28:53.302Z"
   },
   {
    "duration": 10,
    "start_time": "2024-08-13T14:37:10.441Z"
   },
   {
    "duration": 10,
    "start_time": "2024-08-13T14:37:26.888Z"
   },
   {
    "duration": 72,
    "start_time": "2024-08-13T14:37:36.463Z"
   },
   {
    "duration": 423,
    "start_time": "2024-08-13T14:38:44.544Z"
   },
   {
    "duration": 85,
    "start_time": "2024-08-13T14:39:07.960Z"
   },
   {
    "duration": 5,
    "start_time": "2024-08-13T14:39:21.029Z"
   },
   {
    "duration": 339,
    "start_time": "2024-08-13T14:39:21.039Z"
   },
   {
    "duration": 31,
    "start_time": "2024-08-13T14:39:21.380Z"
   },
   {
    "duration": 5,
    "start_time": "2024-08-13T14:39:21.414Z"
   },
   {
    "duration": 4,
    "start_time": "2024-08-13T14:39:25.832Z"
   },
   {
    "duration": 1125,
    "start_time": "2024-08-13T14:39:26.992Z"
   },
   {
    "duration": 82,
    "start_time": "2024-08-13T14:39:37.919Z"
   },
   {
    "duration": 5,
    "start_time": "2024-08-13T14:39:41.927Z"
   },
   {
    "duration": 323,
    "start_time": "2024-08-13T14:39:41.937Z"
   },
   {
    "duration": 25,
    "start_time": "2024-08-13T14:39:42.263Z"
   },
   {
    "duration": 5,
    "start_time": "2024-08-13T14:39:42.303Z"
   },
   {
    "duration": 5,
    "start_time": "2024-08-13T14:39:48.225Z"
   },
   {
    "duration": 1311,
    "start_time": "2024-08-13T14:39:48.983Z"
   },
   {
    "duration": 93,
    "start_time": "2024-08-13T14:39:53.527Z"
   },
   {
    "duration": 756,
    "start_time": "2024-08-13T14:45:20.203Z"
   },
   {
    "duration": 551,
    "start_time": "2024-08-13T14:49:35.286Z"
   },
   {
    "duration": 37,
    "start_time": "2024-08-13T14:51:53.279Z"
   },
   {
    "duration": 36,
    "start_time": "2024-08-13T14:52:01.698Z"
   },
   {
    "duration": 169,
    "start_time": "2024-08-13T14:53:28.642Z"
   },
   {
    "duration": 135,
    "start_time": "2024-08-13T14:54:38.123Z"
   },
   {
    "duration": 88,
    "start_time": "2024-08-13T14:58:24.811Z"
   },
   {
    "duration": 9,
    "start_time": "2024-08-13T14:58:44.676Z"
   },
   {
    "duration": 3,
    "start_time": "2024-08-13T15:10:03.653Z"
   },
   {
    "duration": 4,
    "start_time": "2024-08-13T15:10:20.479Z"
   },
   {
    "duration": 52194,
    "start_time": "2024-08-13T15:13:22.953Z"
   },
   {
    "duration": 4,
    "start_time": "2024-08-13T15:16:28.423Z"
   },
   {
    "duration": 66,
    "start_time": "2024-08-13T15:17:25.326Z"
   },
   {
    "duration": 68,
    "start_time": "2024-08-13T15:17:35.862Z"
   },
   {
    "duration": 4,
    "start_time": "2024-08-13T15:18:45.607Z"
   },
   {
    "duration": 28,
    "start_time": "2024-08-13T15:18:57.574Z"
   },
   {
    "duration": 26,
    "start_time": "2024-08-13T15:19:04.887Z"
   },
   {
    "duration": 4,
    "start_time": "2024-08-13T15:19:15.276Z"
   },
   {
    "duration": 4847,
    "start_time": "2024-08-13T15:42:03.283Z"
   },
   {
    "duration": 348,
    "start_time": "2024-08-13T15:42:08.134Z"
   },
   {
    "duration": 25,
    "start_time": "2024-08-13T15:42:08.485Z"
   },
   {
    "duration": 4,
    "start_time": "2024-08-13T15:42:08.523Z"
   },
   {
    "duration": 857,
    "start_time": "2024-08-13T15:42:08.532Z"
   },
   {
    "duration": 66,
    "start_time": "2024-08-13T15:42:09.393Z"
   },
   {
    "duration": 536,
    "start_time": "2024-08-13T15:42:09.462Z"
   },
   {
    "duration": 37,
    "start_time": "2024-08-13T15:42:10.001Z"
   },
   {
    "duration": 131,
    "start_time": "2024-08-13T15:42:10.041Z"
   },
   {
    "duration": 106,
    "start_time": "2024-08-13T15:42:10.175Z"
   },
   {
    "duration": 11,
    "start_time": "2024-08-13T15:42:10.283Z"
   },
   {
    "duration": 5,
    "start_time": "2024-08-13T15:42:10.297Z"
   },
   {
    "duration": 62,
    "start_time": "2024-08-13T15:42:10.325Z"
   },
   {
    "duration": 58,
    "start_time": "2024-08-13T15:42:14.890Z"
   },
   {
    "duration": 4,
    "start_time": "2024-08-13T15:42:15.883Z"
   },
   {
    "duration": 61,
    "start_time": "2024-08-13T15:44:12.198Z"
   },
   {
    "duration": 57,
    "start_time": "2024-08-13T15:44:38.279Z"
   },
   {
    "duration": 401,
    "start_time": "2024-08-13T15:46:44.148Z"
   },
   {
    "duration": 34,
    "start_time": "2024-08-13T15:47:19.551Z"
   },
   {
    "duration": 156,
    "start_time": "2024-08-13T15:55:14.493Z"
   },
   {
    "duration": 7,
    "start_time": "2024-08-13T15:55:15.194Z"
   },
   {
    "duration": 4,
    "start_time": "2024-08-13T15:55:21.218Z"
   },
   {
    "duration": 34,
    "start_time": "2024-08-13T15:55:22.200Z"
   },
   {
    "duration": 57,
    "start_time": "2024-08-13T15:55:23.128Z"
   },
   {
    "duration": 6,
    "start_time": "2024-08-13T15:55:28.930Z"
   },
   {
    "duration": 9,
    "start_time": "2024-08-13T15:57:59.850Z"
   },
   {
    "duration": 574,
    "start_time": "2024-08-13T16:02:11.008Z"
   },
   {
    "duration": 4977,
    "start_time": "2024-08-13T21:09:37.159Z"
   },
   {
    "duration": 382,
    "start_time": "2024-08-13T21:09:42.140Z"
   },
   {
    "duration": 25,
    "start_time": "2024-08-13T21:09:42.524Z"
   },
   {
    "duration": 5,
    "start_time": "2024-08-13T21:09:42.552Z"
   },
   {
    "duration": 783,
    "start_time": "2024-08-13T21:09:42.562Z"
   },
   {
    "duration": 80,
    "start_time": "2024-08-13T21:09:43.348Z"
   },
   {
    "duration": 534,
    "start_time": "2024-08-13T21:09:43.431Z"
   },
   {
    "duration": 36,
    "start_time": "2024-08-13T21:09:43.968Z"
   },
   {
    "duration": 127,
    "start_time": "2024-08-13T21:09:44.008Z"
   },
   {
    "duration": 171,
    "start_time": "2024-08-13T21:09:44.138Z"
   },
   {
    "duration": 14,
    "start_time": "2024-08-13T21:09:44.312Z"
   },
   {
    "duration": 5,
    "start_time": "2024-08-13T21:09:44.329Z"
   },
   {
    "duration": 35,
    "start_time": "2024-08-13T21:09:44.338Z"
   },
   {
    "duration": 89,
    "start_time": "2024-08-13T21:09:44.379Z"
   },
   {
    "duration": 5,
    "start_time": "2024-08-13T21:09:44.471Z"
   },
   {
    "duration": 9,
    "start_time": "2024-08-13T21:09:44.479Z"
   },
   {
    "duration": 8,
    "start_time": "2024-08-13T21:10:13.686Z"
   },
   {
    "duration": 612,
    "start_time": "2024-08-13T21:10:14.436Z"
   },
   {
    "duration": 750,
    "start_time": "2024-08-13T21:36:15.368Z"
   },
   {
    "duration": 856,
    "start_time": "2024-08-13T21:39:14.374Z"
   },
   {
    "duration": 5,
    "start_time": "2024-08-13T21:39:21.978Z"
   },
   {
    "duration": 295,
    "start_time": "2024-08-13T21:39:21.988Z"
   },
   {
    "duration": 24,
    "start_time": "2024-08-13T21:39:22.285Z"
   },
   {
    "duration": 16,
    "start_time": "2024-08-13T21:39:22.312Z"
   },
   {
    "duration": 986,
    "start_time": "2024-08-13T21:39:22.333Z"
   },
   {
    "duration": 62,
    "start_time": "2024-08-13T21:39:23.327Z"
   },
   {
    "duration": 536,
    "start_time": "2024-08-13T21:39:23.392Z"
   },
   {
    "duration": 32,
    "start_time": "2024-08-13T21:39:23.931Z"
   },
   {
    "duration": 128,
    "start_time": "2024-08-13T21:39:23.966Z"
   },
   {
    "duration": 279,
    "start_time": "2024-08-13T21:39:33.488Z"
   },
   {
    "duration": 8,
    "start_time": "2024-08-13T21:39:38.338Z"
   },
   {
    "duration": 6,
    "start_time": "2024-08-13T21:39:49.954Z"
   },
   {
    "duration": 313,
    "start_time": "2024-08-13T21:39:49.966Z"
   },
   {
    "duration": 23,
    "start_time": "2024-08-13T21:39:50.282Z"
   },
   {
    "duration": 18,
    "start_time": "2024-08-13T21:39:50.308Z"
   },
   {
    "duration": 877,
    "start_time": "2024-08-13T21:39:50.332Z"
   },
   {
    "duration": 67,
    "start_time": "2024-08-13T21:39:51.212Z"
   },
   {
    "duration": 535,
    "start_time": "2024-08-13T21:39:51.282Z"
   },
   {
    "duration": 38,
    "start_time": "2024-08-13T21:39:51.819Z"
   },
   {
    "duration": 120,
    "start_time": "2024-08-13T21:39:51.860Z"
   },
   {
    "duration": 298,
    "start_time": "2024-08-13T21:39:51.983Z"
   },
   {
    "duration": 8,
    "start_time": "2024-08-13T21:39:52.284Z"
   },
   {
    "duration": 5,
    "start_time": "2024-08-13T21:39:52.295Z"
   },
   {
    "duration": 38,
    "start_time": "2024-08-13T21:39:52.327Z"
   },
   {
    "duration": 81,
    "start_time": "2024-08-13T21:39:52.369Z"
   },
   {
    "duration": 4,
    "start_time": "2024-08-13T21:39:52.453Z"
   },
   {
    "duration": 7,
    "start_time": "2024-08-13T21:39:52.461Z"
   },
   {
    "duration": 8,
    "start_time": "2024-08-13T21:39:58.976Z"
   },
   {
    "duration": 541,
    "start_time": "2024-08-13T21:40:00.425Z"
   },
   {
    "duration": 81,
    "start_time": "2024-08-13T21:40:07.033Z"
   },
   {
    "duration": 86,
    "start_time": "2024-08-13T21:40:12.961Z"
   },
   {
    "duration": 34,
    "start_time": "2024-08-13T21:43:18.381Z"
   },
   {
    "duration": 42,
    "start_time": "2024-08-13T21:54:27.603Z"
   },
   {
    "duration": 5,
    "start_time": "2024-08-13T21:55:16.907Z"
   },
   {
    "duration": 7,
    "start_time": "2024-08-13T21:55:37.258Z"
   },
   {
    "duration": 37,
    "start_time": "2024-08-13T21:56:48.300Z"
   },
   {
    "duration": 6,
    "start_time": "2024-08-13T21:59:00.908Z"
   },
   {
    "duration": 72,
    "start_time": "2024-08-13T22:06:37.826Z"
   },
   {
    "duration": 70,
    "start_time": "2024-08-13T22:07:27.253Z"
   },
   {
    "duration": 4986,
    "start_time": "2024-08-14T13:23:56.793Z"
   },
   {
    "duration": 355,
    "start_time": "2024-08-14T13:24:01.783Z"
   },
   {
    "duration": 25,
    "start_time": "2024-08-14T13:24:02.140Z"
   },
   {
    "duration": 5,
    "start_time": "2024-08-14T13:24:02.169Z"
   },
   {
    "duration": 909,
    "start_time": "2024-08-14T13:24:02.178Z"
   },
   {
    "duration": 69,
    "start_time": "2024-08-14T13:24:03.090Z"
   },
   {
    "duration": 513,
    "start_time": "2024-08-14T13:24:03.162Z"
   },
   {
    "duration": 45,
    "start_time": "2024-08-14T13:24:03.678Z"
   },
   {
    "duration": 119,
    "start_time": "2024-08-14T13:24:03.726Z"
   },
   {
    "duration": 295,
    "start_time": "2024-08-14T13:24:03.851Z"
   },
   {
    "duration": 10,
    "start_time": "2024-08-14T13:24:04.148Z"
   },
   {
    "duration": 5,
    "start_time": "2024-08-14T13:24:04.161Z"
   },
   {
    "duration": 67,
    "start_time": "2024-08-14T13:24:04.169Z"
   },
   {
    "duration": 61,
    "start_time": "2024-08-14T13:24:04.241Z"
   },
   {
    "duration": 4,
    "start_time": "2024-08-14T13:24:04.322Z"
   },
   {
    "duration": 8,
    "start_time": "2024-08-14T13:24:04.329Z"
   },
   {
    "duration": 625,
    "start_time": "2024-08-14T13:24:04.340Z"
   },
   {
    "duration": 37,
    "start_time": "2024-08-14T13:24:04.968Z"
   },
   {
    "duration": 6,
    "start_time": "2024-08-14T13:24:05.023Z"
   },
   {
    "duration": 0,
    "start_time": "2024-08-14T13:24:05.032Z"
   },
   {
    "duration": 0,
    "start_time": "2024-08-14T13:24:05.035Z"
   },
   {
    "duration": 6,
    "start_time": "2024-08-14T13:27:29.594Z"
   },
   {
    "duration": 74,
    "start_time": "2024-08-14T13:27:31.080Z"
   },
   {
    "duration": 42,
    "start_time": "2024-08-14T13:35:08.160Z"
   },
   {
    "duration": 34,
    "start_time": "2024-08-14T13:35:21.308Z"
   },
   {
    "duration": 5,
    "start_time": "2024-08-14T13:38:04.025Z"
   },
   {
    "duration": 104,
    "start_time": "2024-08-14T13:43:00.145Z"
   },
   {
    "duration": 104,
    "start_time": "2024-08-14T13:43:09.096Z"
   },
   {
    "duration": 104,
    "start_time": "2024-08-14T13:43:20.451Z"
   },
   {
    "duration": 102,
    "start_time": "2024-08-14T13:45:12.911Z"
   },
   {
    "duration": 105,
    "start_time": "2024-08-14T13:45:23.908Z"
   },
   {
    "duration": 63,
    "start_time": "2024-08-14T13:49:00.431Z"
   },
   {
    "duration": 15,
    "start_time": "2024-08-14T13:53:00.305Z"
   },
   {
    "duration": 6,
    "start_time": "2024-08-14T13:54:32.400Z"
   },
   {
    "duration": 182,
    "start_time": "2024-08-14T14:07:54.393Z"
   },
   {
    "duration": 198,
    "start_time": "2024-08-14T14:08:02.201Z"
   },
   {
    "duration": 2843,
    "start_time": "2024-08-14T14:16:27.883Z"
   },
   {
    "duration": 385,
    "start_time": "2024-08-14T14:18:40.103Z"
   },
   {
    "duration": 503,
    "start_time": "2024-08-14T14:19:05.649Z"
   },
   {
    "duration": 374,
    "start_time": "2024-08-14T14:19:12.437Z"
   },
   {
    "duration": 319,
    "start_time": "2024-08-14T14:21:28.287Z"
   },
   {
    "duration": 450,
    "start_time": "2024-08-14T14:21:48.266Z"
   },
   {
    "duration": 21712,
    "start_time": "2024-08-14T14:23:42.044Z"
   },
   {
    "duration": 390,
    "start_time": "2024-08-14T14:32:54.852Z"
   },
   {
    "duration": 1233,
    "start_time": "2024-08-14T14:33:18.943Z"
   },
   {
    "duration": 431,
    "start_time": "2024-08-14T14:33:25.609Z"
   },
   {
    "duration": 511,
    "start_time": "2024-08-14T14:40:24.594Z"
   },
   {
    "duration": 103,
    "start_time": "2024-08-14T15:03:56.392Z"
   },
   {
    "duration": 24,
    "start_time": "2024-08-14T15:26:33.683Z"
   },
   {
    "duration": 25,
    "start_time": "2024-08-14T15:27:12.652Z"
   },
   {
    "duration": 5,
    "start_time": "2024-08-14T15:27:41.675Z"
   },
   {
    "duration": 27,
    "start_time": "2024-08-14T15:31:38.604Z"
   },
   {
    "duration": 29,
    "start_time": "2024-08-14T15:31:58.050Z"
   },
   {
    "duration": 26,
    "start_time": "2024-08-14T15:32:24.678Z"
   },
   {
    "duration": 6,
    "start_time": "2024-08-14T15:32:53.778Z"
   },
   {
    "duration": 26,
    "start_time": "2024-08-14T15:34:40.850Z"
   },
   {
    "duration": 25,
    "start_time": "2024-08-14T15:35:25.781Z"
   },
   {
    "duration": 10,
    "start_time": "2024-08-14T15:35:39.832Z"
   },
   {
    "duration": 7,
    "start_time": "2024-08-14T15:35:56.468Z"
   },
   {
    "duration": 8,
    "start_time": "2024-08-14T15:37:06.378Z"
   },
   {
    "duration": 133,
    "start_time": "2024-08-14T15:38:42.610Z"
   },
   {
    "duration": 5,
    "start_time": "2024-08-14T15:53:00.504Z"
   },
   {
    "duration": 1361,
    "start_time": "2024-08-14T15:54:33.553Z"
   },
   {
    "duration": 473,
    "start_time": "2024-08-14T15:55:15.062Z"
   },
   {
    "duration": 167,
    "start_time": "2024-08-14T15:55:23.920Z"
   },
   {
    "duration": 74,
    "start_time": "2024-08-14T15:58:00.039Z"
   },
   {
    "duration": 366,
    "start_time": "2024-08-14T15:58:41.831Z"
   },
   {
    "duration": 444,
    "start_time": "2024-08-14T15:59:18.121Z"
   },
   {
    "duration": 510,
    "start_time": "2024-08-14T16:03:11.193Z"
   },
   {
    "duration": 5,
    "start_time": "2024-08-14T16:06:30.386Z"
   },
   {
    "duration": 74,
    "start_time": "2024-08-14T16:18:22.614Z"
   },
   {
    "duration": 117,
    "start_time": "2024-08-14T16:21:03.075Z"
   },
   {
    "duration": 68,
    "start_time": "2024-08-14T16:21:10.985Z"
   },
   {
    "duration": 6,
    "start_time": "2024-08-14T16:22:30.353Z"
   },
   {
    "duration": 5,
    "start_time": "2024-08-14T16:30:16.781Z"
   },
   {
    "duration": 11,
    "start_time": "2024-08-14T16:40:00.491Z"
   },
   {
    "duration": 6,
    "start_time": "2024-08-14T16:46:49.395Z"
   },
   {
    "duration": 8,
    "start_time": "2024-08-14T16:46:56.624Z"
   },
   {
    "duration": 7,
    "start_time": "2024-08-14T16:47:12.693Z"
   },
   {
    "duration": 9,
    "start_time": "2024-08-14T16:47:14.859Z"
   },
   {
    "duration": 76,
    "start_time": "2024-08-14T16:49:04.426Z"
   },
   {
    "duration": 69,
    "start_time": "2024-08-14T16:51:52.682Z"
   },
   {
    "duration": 68,
    "start_time": "2024-08-14T16:52:15.743Z"
   },
   {
    "duration": 68,
    "start_time": "2024-08-14T16:53:00.222Z"
   },
   {
    "duration": 68,
    "start_time": "2024-08-14T16:53:25.647Z"
   },
   {
    "duration": 68,
    "start_time": "2024-08-14T16:53:36.144Z"
   },
   {
    "duration": 89,
    "start_time": "2024-08-14T17:06:12.326Z"
   },
   {
    "duration": 7,
    "start_time": "2024-08-14T17:13:56.545Z"
   },
   {
    "duration": 5,
    "start_time": "2024-08-14T17:14:14.451Z"
   },
   {
    "duration": 786,
    "start_time": "2024-08-14T17:14:35.027Z"
   },
   {
    "duration": 11,
    "start_time": "2024-08-14T17:15:06.907Z"
   },
   {
    "duration": 13,
    "start_time": "2024-08-14T17:18:02.513Z"
   },
   {
    "duration": 14,
    "start_time": "2024-08-14T17:19:01.923Z"
   },
   {
    "duration": 6,
    "start_time": "2024-08-14T17:19:12.515Z"
   },
   {
    "duration": 31,
    "start_time": "2024-08-14T17:19:29.787Z"
   },
   {
    "duration": 13,
    "start_time": "2024-08-14T17:19:37.026Z"
   },
   {
    "duration": 7,
    "start_time": "2024-08-14T17:21:00.298Z"
   },
   {
    "duration": 14,
    "start_time": "2024-08-14T17:21:11.934Z"
   },
   {
    "duration": 5185,
    "start_time": "2024-08-14T18:46:34.281Z"
   },
   {
    "duration": 374,
    "start_time": "2024-08-14T18:46:39.470Z"
   },
   {
    "duration": 32,
    "start_time": "2024-08-14T18:46:39.847Z"
   },
   {
    "duration": 6,
    "start_time": "2024-08-14T18:46:39.890Z"
   },
   {
    "duration": 885,
    "start_time": "2024-08-14T18:46:39.908Z"
   },
   {
    "duration": 69,
    "start_time": "2024-08-14T18:46:40.799Z"
   },
   {
    "duration": 541,
    "start_time": "2024-08-14T18:46:40.871Z"
   },
   {
    "duration": 32,
    "start_time": "2024-08-14T18:46:41.415Z"
   },
   {
    "duration": 142,
    "start_time": "2024-08-14T18:46:41.451Z"
   },
   {
    "duration": 306,
    "start_time": "2024-08-14T18:46:41.600Z"
   },
   {
    "duration": 18,
    "start_time": "2024-08-14T18:46:41.910Z"
   },
   {
    "duration": 6,
    "start_time": "2024-08-14T18:46:41.931Z"
   },
   {
    "duration": 35,
    "start_time": "2024-08-14T18:46:41.941Z"
   },
   {
    "duration": 90,
    "start_time": "2024-08-14T18:46:41.979Z"
   },
   {
    "duration": 4,
    "start_time": "2024-08-14T18:46:42.072Z"
   },
   {
    "duration": 9,
    "start_time": "2024-08-14T18:46:42.079Z"
   },
   {
    "duration": 582,
    "start_time": "2024-08-14T18:46:42.091Z"
   },
   {
    "duration": 52,
    "start_time": "2024-08-14T18:46:42.676Z"
   },
   {
    "duration": 7,
    "start_time": "2024-08-14T18:46:42.731Z"
   },
   {
    "duration": 96,
    "start_time": "2024-08-14T18:46:42.741Z"
   },
   {
    "duration": 51,
    "start_time": "2024-08-14T18:46:42.845Z"
   },
   {
    "duration": 7,
    "start_time": "2024-08-14T18:46:42.899Z"
   },
   {
    "duration": 130,
    "start_time": "2024-08-14T18:46:42.926Z"
   },
   {
    "duration": 78,
    "start_time": "2024-08-14T18:46:43.059Z"
   },
   {
    "duration": 12,
    "start_time": "2024-08-14T18:46:43.140Z"
   },
   {
    "duration": 243,
    "start_time": "2024-08-14T18:46:43.155Z"
   },
   {
    "duration": 426,
    "start_time": "2024-08-14T18:46:43.400Z"
   },
   {
    "duration": 530,
    "start_time": "2024-08-14T18:46:43.832Z"
   },
   {
    "duration": 102,
    "start_time": "2024-08-14T18:46:44.365Z"
   },
   {
    "duration": 6,
    "start_time": "2024-08-14T18:46:44.470Z"
   },
   {
    "duration": 8,
    "start_time": "2024-08-14T18:46:44.479Z"
   },
   {
    "duration": 279,
    "start_time": "2024-08-14T18:51:41.652Z"
   },
   {
    "duration": 187,
    "start_time": "2024-08-14T19:12:10.595Z"
   },
   {
    "duration": 134,
    "start_time": "2024-08-14T19:15:15.378Z"
   },
   {
    "duration": 49,
    "start_time": "2024-08-14T19:15:42.064Z"
   },
   {
    "duration": 273,
    "start_time": "2024-08-14T19:17:31.787Z"
   },
   {
    "duration": 5,
    "start_time": "2024-08-14T19:17:56.972Z"
   },
   {
    "duration": 318,
    "start_time": "2024-08-14T19:17:56.981Z"
   },
   {
    "duration": 29,
    "start_time": "2024-08-14T19:17:57.302Z"
   },
   {
    "duration": 5,
    "start_time": "2024-08-14T19:17:57.335Z"
   },
   {
    "duration": 847,
    "start_time": "2024-08-14T19:17:57.343Z"
   },
   {
    "duration": 72,
    "start_time": "2024-08-14T19:17:58.192Z"
   },
   {
    "duration": 536,
    "start_time": "2024-08-14T19:17:58.268Z"
   },
   {
    "duration": 35,
    "start_time": "2024-08-14T19:17:58.807Z"
   },
   {
    "duration": 130,
    "start_time": "2024-08-14T19:17:58.848Z"
   },
   {
    "duration": 247,
    "start_time": "2024-08-14T19:17:58.980Z"
   },
   {
    "duration": 296,
    "start_time": "2024-08-14T19:17:59.230Z"
   },
   {
    "duration": 9,
    "start_time": "2024-08-14T19:17:59.528Z"
   },
   {
    "duration": 5,
    "start_time": "2024-08-14T19:17:59.540Z"
   },
   {
    "duration": 35,
    "start_time": "2024-08-14T19:17:59.548Z"
   },
   {
    "duration": 94,
    "start_time": "2024-08-14T19:17:59.586Z"
   },
   {
    "duration": 4,
    "start_time": "2024-08-14T19:17:59.684Z"
   },
   {
    "duration": 8,
    "start_time": "2024-08-14T19:17:59.691Z"
   },
   {
    "duration": 578,
    "start_time": "2024-08-14T19:17:59.701Z"
   },
   {
    "duration": 46,
    "start_time": "2024-08-14T19:18:00.282Z"
   },
   {
    "duration": 7,
    "start_time": "2024-08-14T19:18:00.331Z"
   },
   {
    "duration": 95,
    "start_time": "2024-08-14T19:18:00.340Z"
   },
   {
    "duration": 47,
    "start_time": "2024-08-14T19:18:00.438Z"
   },
   {
    "duration": 6,
    "start_time": "2024-08-14T19:18:00.489Z"
   },
   {
    "duration": 117,
    "start_time": "2024-08-14T19:18:00.527Z"
   },
   {
    "duration": 58,
    "start_time": "2024-08-14T19:18:00.647Z"
   },
   {
    "duration": 7,
    "start_time": "2024-08-14T19:18:00.727Z"
   },
   {
    "duration": 116,
    "start_time": "2024-08-14T19:18:00.738Z"
   },
   {
    "duration": 13,
    "start_time": "2024-08-14T19:20:54.570Z"
   },
   {
    "duration": 9,
    "start_time": "2024-08-14T19:55:52.407Z"
   },
   {
    "duration": 29,
    "start_time": "2024-08-14T19:55:59.890Z"
   },
   {
    "duration": 1409,
    "start_time": "2024-08-14T19:59:16.511Z"
   },
   {
    "duration": 5,
    "start_time": "2024-08-14T19:59:43.735Z"
   },
   {
    "duration": 204,
    "start_time": "2024-08-14T19:59:48.579Z"
   },
   {
    "duration": 111,
    "start_time": "2024-08-14T20:07:02.123Z"
   },
   {
    "duration": 6,
    "start_time": "2024-08-14T20:07:02.808Z"
   },
   {
    "duration": 113,
    "start_time": "2024-08-14T20:07:53.811Z"
   },
   {
    "duration": 9,
    "start_time": "2024-08-14T20:08:04.090Z"
   },
   {
    "duration": 11,
    "start_time": "2024-08-14T20:15:35.442Z"
   },
   {
    "duration": 11,
    "start_time": "2024-08-14T20:24:23.289Z"
   },
   {
    "duration": 11,
    "start_time": "2024-08-14T20:25:30.848Z"
   },
   {
    "duration": 329,
    "start_time": "2024-08-14T20:29:38.315Z"
   },
   {
    "duration": 1473,
    "start_time": "2024-08-14T20:30:22.758Z"
   },
   {
    "duration": 8,
    "start_time": "2024-08-14T20:38:56.006Z"
   },
   {
    "duration": 278,
    "start_time": "2024-08-14T20:39:39.015Z"
   },
   {
    "duration": 7,
    "start_time": "2024-08-14T20:42:27.359Z"
   },
   {
    "duration": 288,
    "start_time": "2024-08-14T20:42:30.179Z"
   },
   {
    "duration": 1148,
    "start_time": "2024-08-14T20:42:42.966Z"
   },
   {
    "duration": 1142,
    "start_time": "2024-08-14T20:43:13.920Z"
   },
   {
    "duration": 7,
    "start_time": "2024-08-14T20:43:21.942Z"
   },
   {
    "duration": 1160,
    "start_time": "2024-08-14T20:45:51.386Z"
   },
   {
    "duration": 5509,
    "start_time": "2024-08-14T21:28:45.265Z"
   },
   {
    "duration": 378,
    "start_time": "2024-08-14T21:28:50.779Z"
   },
   {
    "duration": 27,
    "start_time": "2024-08-14T21:28:51.160Z"
   },
   {
    "duration": 20,
    "start_time": "2024-08-14T21:28:51.190Z"
   },
   {
    "duration": 1045,
    "start_time": "2024-08-14T21:28:51.215Z"
   },
   {
    "duration": 97,
    "start_time": "2024-08-14T21:28:52.264Z"
   },
   {
    "duration": 648,
    "start_time": "2024-08-14T21:28:52.365Z"
   },
   {
    "duration": 46,
    "start_time": "2024-08-14T21:28:53.018Z"
   },
   {
    "duration": 168,
    "start_time": "2024-08-14T21:28:53.068Z"
   },
   {
    "duration": 327,
    "start_time": "2024-08-14T21:28:53.240Z"
   },
   {
    "duration": 371,
    "start_time": "2024-08-14T21:28:53.570Z"
   },
   {
    "duration": 12,
    "start_time": "2024-08-14T21:28:53.945Z"
   },
   {
    "duration": 9,
    "start_time": "2024-08-14T21:28:53.961Z"
   },
   {
    "duration": 67,
    "start_time": "2024-08-14T21:28:53.985Z"
   },
   {
    "duration": 90,
    "start_time": "2024-08-14T21:28:54.056Z"
   },
   {
    "duration": 5,
    "start_time": "2024-08-14T21:28:54.150Z"
   },
   {
    "duration": 10,
    "start_time": "2024-08-14T21:28:54.159Z"
   },
   {
    "duration": 762,
    "start_time": "2024-08-14T21:28:54.173Z"
   },
   {
    "duration": 55,
    "start_time": "2024-08-14T21:28:54.946Z"
   },
   {
    "duration": 10,
    "start_time": "2024-08-14T21:28:55.006Z"
   },
   {
    "duration": 108,
    "start_time": "2024-08-14T21:28:55.021Z"
   },
   {
    "duration": 76,
    "start_time": "2024-08-14T21:28:55.133Z"
   },
   {
    "duration": 10,
    "start_time": "2024-08-14T21:28:55.212Z"
   },
   {
    "duration": 156,
    "start_time": "2024-08-14T21:28:55.225Z"
   },
   {
    "duration": 83,
    "start_time": "2024-08-14T21:28:55.384Z"
   },
   {
    "duration": 9,
    "start_time": "2024-08-14T21:28:55.471Z"
   },
   {
    "duration": 287,
    "start_time": "2024-08-14T21:28:55.484Z"
   },
   {
    "duration": 506,
    "start_time": "2024-08-14T21:28:55.778Z"
   },
   {
    "duration": 0,
    "start_time": "2024-08-14T21:28:56.288Z"
   },
   {
    "duration": 0,
    "start_time": "2024-08-14T21:28:56.291Z"
   },
   {
    "duration": 0,
    "start_time": "2024-08-14T21:28:56.293Z"
   },
   {
    "duration": 0,
    "start_time": "2024-08-14T21:28:56.296Z"
   },
   {
    "duration": 0,
    "start_time": "2024-08-14T21:28:56.297Z"
   },
   {
    "duration": 25,
    "start_time": "2024-08-14T21:42:58.279Z"
   },
   {
    "duration": 7,
    "start_time": "2024-08-14T21:43:09.889Z"
   },
   {
    "duration": 362,
    "start_time": "2024-08-14T21:43:09.901Z"
   },
   {
    "duration": 26,
    "start_time": "2024-08-14T21:43:10.270Z"
   },
   {
    "duration": 5,
    "start_time": "2024-08-14T21:43:10.311Z"
   },
   {
    "duration": 1021,
    "start_time": "2024-08-14T21:43:10.325Z"
   },
   {
    "duration": 79,
    "start_time": "2024-08-14T21:43:11.350Z"
   },
   {
    "duration": 563,
    "start_time": "2024-08-14T21:43:11.432Z"
   },
   {
    "duration": 44,
    "start_time": "2024-08-14T21:43:12.008Z"
   },
   {
    "duration": 153,
    "start_time": "2024-08-14T21:43:12.056Z"
   },
   {
    "duration": 292,
    "start_time": "2024-08-14T21:43:12.213Z"
   },
   {
    "duration": 326,
    "start_time": "2024-08-14T21:43:12.511Z"
   },
   {
    "duration": 13,
    "start_time": "2024-08-14T21:43:12.840Z"
   },
   {
    "duration": 5,
    "start_time": "2024-08-14T21:43:12.860Z"
   },
   {
    "duration": 77,
    "start_time": "2024-08-14T21:43:12.873Z"
   },
   {
    "duration": 93,
    "start_time": "2024-08-14T21:43:12.954Z"
   },
   {
    "duration": 7,
    "start_time": "2024-08-14T21:43:13.050Z"
   },
   {
    "duration": 10,
    "start_time": "2024-08-14T21:43:13.061Z"
   },
   {
    "duration": 585,
    "start_time": "2024-08-14T21:43:13.075Z"
   },
   {
    "duration": 46,
    "start_time": "2024-08-14T21:43:13.663Z"
   },
   {
    "duration": 6,
    "start_time": "2024-08-14T21:43:13.713Z"
   },
   {
    "duration": 99,
    "start_time": "2024-08-14T21:43:13.723Z"
   },
   {
    "duration": 51,
    "start_time": "2024-08-14T21:43:13.826Z"
   },
   {
    "duration": 38,
    "start_time": "2024-08-14T21:43:13.881Z"
   },
   {
    "duration": 152,
    "start_time": "2024-08-14T21:43:13.923Z"
   },
   {
    "duration": 80,
    "start_time": "2024-08-14T21:43:14.081Z"
   },
   {
    "duration": 8,
    "start_time": "2024-08-14T21:43:14.165Z"
   },
   {
    "duration": 40,
    "start_time": "2024-08-14T21:43:14.176Z"
   },
   {
    "duration": 28,
    "start_time": "2024-08-14T21:43:35.329Z"
   },
   {
    "duration": 76,
    "start_time": "2024-08-14T21:44:11.122Z"
   },
   {
    "duration": 26,
    "start_time": "2024-08-14T21:49:19.677Z"
   },
   {
    "duration": 24,
    "start_time": "2024-08-14T21:49:23.868Z"
   },
   {
    "duration": 26,
    "start_time": "2024-08-14T21:49:24.643Z"
   },
   {
    "duration": 5046,
    "start_time": "2024-08-15T13:06:39.979Z"
   },
   {
    "duration": 354,
    "start_time": "2024-08-15T13:06:45.029Z"
   },
   {
    "duration": 23,
    "start_time": "2024-08-15T13:06:45.390Z"
   },
   {
    "duration": 5,
    "start_time": "2024-08-15T13:06:45.416Z"
   },
   {
    "duration": 879,
    "start_time": "2024-08-15T13:06:45.427Z"
   },
   {
    "duration": 60,
    "start_time": "2024-08-15T13:06:46.310Z"
   },
   {
    "duration": 520,
    "start_time": "2024-08-15T13:06:46.391Z"
   },
   {
    "duration": 32,
    "start_time": "2024-08-15T13:06:46.914Z"
   },
   {
    "duration": 127,
    "start_time": "2024-08-15T13:06:46.949Z"
   },
   {
    "duration": 263,
    "start_time": "2024-08-15T13:06:47.078Z"
   },
   {
    "duration": 280,
    "start_time": "2024-08-15T13:06:47.343Z"
   },
   {
    "duration": 9,
    "start_time": "2024-08-15T13:06:47.626Z"
   },
   {
    "duration": 5,
    "start_time": "2024-08-15T13:06:47.638Z"
   },
   {
    "duration": 64,
    "start_time": "2024-08-15T13:06:47.651Z"
   },
   {
    "duration": 79,
    "start_time": "2024-08-15T13:06:47.718Z"
   },
   {
    "duration": 4,
    "start_time": "2024-08-15T13:06:47.800Z"
   },
   {
    "duration": 8,
    "start_time": "2024-08-15T13:06:47.807Z"
   },
   {
    "duration": 626,
    "start_time": "2024-08-15T13:06:47.818Z"
   },
   {
    "duration": 43,
    "start_time": "2024-08-15T13:06:48.448Z"
   },
   {
    "duration": 6,
    "start_time": "2024-08-15T13:06:48.494Z"
   },
   {
    "duration": 91,
    "start_time": "2024-08-15T13:06:48.504Z"
   },
   {
    "duration": 46,
    "start_time": "2024-08-15T13:06:48.598Z"
   },
   {
    "duration": 7,
    "start_time": "2024-08-15T13:06:48.648Z"
   },
   {
    "duration": 138,
    "start_time": "2024-08-15T13:06:48.658Z"
   },
   {
    "duration": 61,
    "start_time": "2024-08-15T13:06:48.799Z"
   },
   {
    "duration": 31,
    "start_time": "2024-08-15T13:06:48.864Z"
   },
   {
    "duration": 232,
    "start_time": "2024-08-15T13:06:48.898Z"
   },
   {
    "duration": 107,
    "start_time": "2024-08-15T13:06:49.133Z"
   },
   {
    "duration": 456,
    "start_time": "2024-08-15T13:06:49.243Z"
   },
   {
    "duration": 0,
    "start_time": "2024-08-15T13:06:49.702Z"
   },
   {
    "duration": 0,
    "start_time": "2024-08-15T13:06:49.704Z"
   },
   {
    "duration": 0,
    "start_time": "2024-08-15T13:06:49.706Z"
   },
   {
    "duration": 0,
    "start_time": "2024-08-15T13:06:49.707Z"
   },
   {
    "duration": 86,
    "start_time": "2024-08-15T13:24:15.571Z"
   },
   {
    "duration": 80,
    "start_time": "2024-08-15T13:24:31.194Z"
   },
   {
    "duration": 6,
    "start_time": "2024-08-15T13:26:00.359Z"
   },
   {
    "duration": 686,
    "start_time": "2024-08-15T13:33:56.220Z"
   },
   {
    "duration": 669,
    "start_time": "2024-08-15T13:34:07.765Z"
   },
   {
    "duration": 676,
    "start_time": "2024-08-15T13:34:32.909Z"
   },
   {
    "duration": 114,
    "start_time": "2024-08-15T13:37:00.121Z"
   },
   {
    "duration": 98,
    "start_time": "2024-08-15T13:37:06.617Z"
   },
   {
    "duration": 31,
    "start_time": "2024-08-15T13:59:42.944Z"
   },
   {
    "duration": 30,
    "start_time": "2024-08-15T13:59:52.292Z"
   },
   {
    "duration": 65,
    "start_time": "2024-08-15T14:00:42.672Z"
   },
   {
    "duration": 38,
    "start_time": "2024-08-15T14:14:07.167Z"
   },
   {
    "duration": 56,
    "start_time": "2024-08-15T14:15:22.731Z"
   },
   {
    "duration": 102,
    "start_time": "2024-08-15T14:15:23.439Z"
   },
   {
    "duration": 6,
    "start_time": "2024-08-15T14:15:38.327Z"
   },
   {
    "duration": 105,
    "start_time": "2024-08-15T14:15:46.703Z"
   },
   {
    "duration": 256,
    "start_time": "2024-08-15T14:15:59.895Z"
   },
   {
    "duration": 8,
    "start_time": "2024-08-15T14:16:43.207Z"
   },
   {
    "duration": 55,
    "start_time": "2024-08-15T14:30:24.651Z"
   },
   {
    "duration": 34,
    "start_time": "2024-08-15T14:30:37.553Z"
   },
   {
    "duration": 35,
    "start_time": "2024-08-15T14:31:02.866Z"
   },
   {
    "duration": 243,
    "start_time": "2024-08-15T14:34:01.289Z"
   },
   {
    "duration": 35,
    "start_time": "2024-08-15T14:35:31.554Z"
   },
   {
    "duration": 29,
    "start_time": "2024-08-15T14:35:36.819Z"
   },
   {
    "duration": 35,
    "start_time": "2024-08-15T14:36:00.019Z"
   },
   {
    "duration": 78,
    "start_time": "2024-08-15T14:36:19.738Z"
   },
   {
    "duration": 76,
    "start_time": "2024-08-15T14:36:30.906Z"
   },
   {
    "duration": 80,
    "start_time": "2024-08-15T14:36:48.251Z"
   },
   {
    "duration": 78,
    "start_time": "2024-08-15T14:39:44.900Z"
   },
   {
    "duration": 5,
    "start_time": "2024-08-15T14:41:58.676Z"
   },
   {
    "duration": 5,
    "start_time": "2024-08-15T15:08:33.201Z"
   },
   {
    "duration": 370,
    "start_time": "2024-08-15T15:10:08.736Z"
   },
   {
    "duration": 286,
    "start_time": "2024-08-15T15:15:08.463Z"
   },
   {
    "duration": 5,
    "start_time": "2024-08-15T15:15:24.318Z"
   },
   {
    "duration": 317,
    "start_time": "2024-08-15T15:15:24.328Z"
   },
   {
    "duration": 24,
    "start_time": "2024-08-15T15:15:24.648Z"
   },
   {
    "duration": 4,
    "start_time": "2024-08-15T15:15:24.690Z"
   },
   {
    "duration": 973,
    "start_time": "2024-08-15T15:15:24.698Z"
   },
   {
    "duration": 71,
    "start_time": "2024-08-15T15:15:25.674Z"
   },
   {
    "duration": 527,
    "start_time": "2024-08-15T15:15:25.748Z"
   },
   {
    "duration": 38,
    "start_time": "2024-08-15T15:15:26.277Z"
   },
   {
    "duration": 128,
    "start_time": "2024-08-15T15:15:26.320Z"
   },
   {
    "duration": 239,
    "start_time": "2024-08-15T15:15:26.451Z"
   },
   {
    "duration": 293,
    "start_time": "2024-08-15T15:15:26.693Z"
   },
   {
    "duration": 11,
    "start_time": "2024-08-15T15:15:26.991Z"
   },
   {
    "duration": 5,
    "start_time": "2024-08-15T15:15:27.005Z"
   },
   {
    "duration": 35,
    "start_time": "2024-08-15T15:15:27.014Z"
   },
   {
    "duration": 87,
    "start_time": "2024-08-15T15:15:27.052Z"
   },
   {
    "duration": 5,
    "start_time": "2024-08-15T15:15:27.142Z"
   },
   {
    "duration": 40,
    "start_time": "2024-08-15T15:15:27.151Z"
   },
   {
    "duration": 566,
    "start_time": "2024-08-15T15:15:27.194Z"
   },
   {
    "duration": 39,
    "start_time": "2024-08-15T15:15:27.763Z"
   },
   {
    "duration": 7,
    "start_time": "2024-08-15T15:15:27.805Z"
   },
   {
    "duration": 101,
    "start_time": "2024-08-15T15:15:27.815Z"
   },
   {
    "duration": 94,
    "start_time": "2024-08-15T15:15:27.919Z"
   },
   {
    "duration": 6,
    "start_time": "2024-08-15T15:15:28.017Z"
   },
   {
    "duration": 63,
    "start_time": "2024-08-15T15:15:28.030Z"
   },
   {
    "duration": 6,
    "start_time": "2024-08-15T15:15:28.096Z"
   },
   {
    "duration": 133,
    "start_time": "2024-08-15T15:15:28.105Z"
   },
   {
    "duration": 71,
    "start_time": "2024-08-15T15:15:28.242Z"
   },
   {
    "duration": 8,
    "start_time": "2024-08-15T15:15:28.315Z"
   },
   {
    "duration": 14,
    "start_time": "2024-08-15T15:15:28.326Z"
   },
   {
    "duration": 701,
    "start_time": "2024-08-15T15:15:28.345Z"
   },
   {
    "duration": 122,
    "start_time": "2024-08-15T15:15:29.049Z"
   },
   {
    "duration": 66,
    "start_time": "2024-08-15T15:15:29.174Z"
   },
   {
    "duration": 276,
    "start_time": "2024-08-15T15:15:29.243Z"
   },
   {
    "duration": 9,
    "start_time": "2024-08-15T15:15:29.523Z"
   },
   {
    "duration": 59,
    "start_time": "2024-08-15T15:15:29.535Z"
   },
   {
    "duration": 92,
    "start_time": "2024-08-15T15:15:29.598Z"
   },
   {
    "duration": 79,
    "start_time": "2024-08-15T15:15:29.693Z"
   },
   {
    "duration": 5,
    "start_time": "2024-08-15T15:15:29.793Z"
   },
   {
    "duration": 6,
    "start_time": "2024-08-15T15:15:34.676Z"
   },
   {
    "duration": 533,
    "start_time": "2024-08-15T15:15:36.452Z"
   },
   {
    "duration": 6,
    "start_time": "2024-08-15T15:17:02.074Z"
   },
   {
    "duration": 5,
    "start_time": "2024-08-15T15:33:04.182Z"
   },
   {
    "duration": 1656,
    "start_time": "2024-08-15T15:34:59.372Z"
   },
   {
    "duration": 6,
    "start_time": "2024-08-15T15:54:41.201Z"
   },
   {
    "duration": 149,
    "start_time": "2024-08-15T15:56:37.336Z"
   },
   {
    "duration": 120,
    "start_time": "2024-08-15T15:56:57.922Z"
   },
   {
    "duration": 1055,
    "start_time": "2024-08-15T15:58:26.739Z"
   },
   {
    "duration": 5,
    "start_time": "2024-08-15T16:01:09.357Z"
   },
   {
    "duration": 364,
    "start_time": "2024-08-15T16:01:09.368Z"
   },
   {
    "duration": 27,
    "start_time": "2024-08-15T16:01:09.736Z"
   },
   {
    "duration": 23,
    "start_time": "2024-08-15T16:01:09.768Z"
   },
   {
    "duration": 1041,
    "start_time": "2024-08-15T16:01:09.795Z"
   },
   {
    "duration": 95,
    "start_time": "2024-08-15T16:01:10.838Z"
   },
   {
    "duration": 565,
    "start_time": "2024-08-15T16:01:10.936Z"
   },
   {
    "duration": 46,
    "start_time": "2024-08-15T16:01:11.504Z"
   },
   {
    "duration": 179,
    "start_time": "2024-08-15T16:01:11.554Z"
   },
   {
    "duration": 341,
    "start_time": "2024-08-15T16:01:11.740Z"
   },
   {
    "duration": 321,
    "start_time": "2024-08-15T16:01:12.090Z"
   },
   {
    "duration": 8,
    "start_time": "2024-08-15T16:01:12.414Z"
   },
   {
    "duration": 5,
    "start_time": "2024-08-15T16:01:12.426Z"
   },
   {
    "duration": 90,
    "start_time": "2024-08-15T16:01:12.434Z"
   },
   {
    "duration": 101,
    "start_time": "2024-08-15T16:01:12.527Z"
   },
   {
    "duration": 5,
    "start_time": "2024-08-15T16:01:12.634Z"
   },
   {
    "duration": 9,
    "start_time": "2024-08-15T16:01:12.643Z"
   },
   {
    "duration": 594,
    "start_time": "2024-08-15T16:01:12.655Z"
   },
   {
    "duration": 46,
    "start_time": "2024-08-15T16:01:13.252Z"
   },
   {
    "duration": 7,
    "start_time": "2024-08-15T16:01:13.304Z"
   },
   {
    "duration": 139,
    "start_time": "2024-08-15T16:01:13.315Z"
   },
   {
    "duration": 116,
    "start_time": "2024-08-15T16:01:13.458Z"
   },
   {
    "duration": 16,
    "start_time": "2024-08-15T16:01:13.577Z"
   },
   {
    "duration": 60,
    "start_time": "2024-08-15T16:01:13.597Z"
   },
   {
    "duration": 31,
    "start_time": "2024-08-15T16:01:13.660Z"
   },
   {
    "duration": 167,
    "start_time": "2024-08-15T16:01:13.694Z"
   },
   {
    "duration": 101,
    "start_time": "2024-08-15T16:01:13.864Z"
   },
   {
    "duration": 9,
    "start_time": "2024-08-15T16:01:13.990Z"
   },
   {
    "duration": 17,
    "start_time": "2024-08-15T16:01:14.004Z"
   },
   {
    "duration": 779,
    "start_time": "2024-08-15T16:01:14.026Z"
   },
   {
    "duration": 137,
    "start_time": "2024-08-15T16:01:14.809Z"
   },
   {
    "duration": 102,
    "start_time": "2024-08-15T16:01:14.951Z"
   },
   {
    "duration": 314,
    "start_time": "2024-08-15T16:01:15.056Z"
   },
   {
    "duration": 18,
    "start_time": "2024-08-15T16:01:15.373Z"
   },
   {
    "duration": 53,
    "start_time": "2024-08-15T16:01:15.394Z"
   },
   {
    "duration": 113,
    "start_time": "2024-08-15T16:01:15.451Z"
   },
   {
    "duration": 104,
    "start_time": "2024-08-15T16:01:15.568Z"
   },
   {
    "duration": 16,
    "start_time": "2024-08-15T16:01:15.676Z"
   },
   {
    "duration": 8,
    "start_time": "2024-08-15T16:01:15.698Z"
   },
   {
    "duration": 649,
    "start_time": "2024-08-15T16:01:15.709Z"
   },
   {
    "duration": 11,
    "start_time": "2024-08-15T16:01:16.362Z"
   },
   {
    "duration": 23,
    "start_time": "2024-08-15T16:01:16.377Z"
   },
   {
    "duration": 1836,
    "start_time": "2024-08-15T16:01:16.406Z"
   },
   {
    "duration": 8,
    "start_time": "2024-08-15T16:01:18.245Z"
   },
   {
    "duration": 177,
    "start_time": "2024-08-15T16:01:18.256Z"
   },
   {
    "duration": 159,
    "start_time": "2024-08-15T16:01:23.525Z"
   },
   {
    "duration": 275,
    "start_time": "2024-08-15T16:01:24.388Z"
   },
   {
    "duration": 8,
    "start_time": "2024-08-15T16:02:29.459Z"
   },
   {
    "duration": 146,
    "start_time": "2024-08-15T16:02:30.755Z"
   },
   {
    "duration": 1441,
    "start_time": "2024-08-15T16:02:31.932Z"
   },
   {
    "duration": 15,
    "start_time": "2024-08-15T16:03:27.052Z"
   },
   {
    "duration": 7,
    "start_time": "2024-08-15T16:04:45.726Z"
   },
   {
    "duration": 14,
    "start_time": "2024-08-15T16:10:50.916Z"
   }
  ],
  "kernelspec": {
   "display_name": "Python 3 (ipykernel)",
   "language": "python",
   "name": "python3"
  },
  "language_info": {
   "codemirror_mode": {
    "name": "ipython",
    "version": 3
   },
   "file_extension": ".py",
   "mimetype": "text/x-python",
   "name": "python",
   "nbconvert_exporter": "python",
   "pygments_lexer": "ipython3",
   "version": "3.9.19"
  },
  "toc": {
   "base_numbering": 1,
   "nav_menu": {},
   "number_sections": true,
   "sideBar": true,
   "skip_h1_title": true,
   "title_cell": "Table of Contents",
   "title_sidebar": "Contents",
   "toc_cell": false,
   "toc_position": {},
   "toc_section_display": true,
   "toc_window_display": false
  }
 },
 "nbformat": 4,
 "nbformat_minor": 2
}
